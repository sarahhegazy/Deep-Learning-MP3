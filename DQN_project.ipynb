{
 "cells": [
  {
   "cell_type": "markdown",
   "metadata": {},
   "source": [
    "**You may need to install [OpenCV](https://pypi.python.org/pypi/opencv-python) and [scikit-video](http://www.scikit-video.org/stable/).**"
   ]
  },
  {
   "cell_type": "code",
   "execution_count": 18,
   "metadata": {},
   "outputs": [],
   "source": [
    "import keras\n",
    "import numpy as np\n",
    "import io\n",
    "import base64\n",
    "from IPython.display import HTML\n",
    "import skvideo\n",
    "import skvideo.io\n",
    "#skvideo.setFFmpegPath(\"C:\\\\ffmpeg\\\\bin\")\n",
    "import skvideo\n",
    "import cv2\n",
    "import json\n",
    "\n",
    "from keras.models import Sequential,model_from_json\n",
    "from keras.layers.core import Dense\n",
    "from keras.optimizers import sgd\n",
    "from keras.layers import Conv2D, MaxPooling2D,Flatten, Activation, Dropout, AveragePooling2D,Reshape,BatchNormalization"
   ]
  },
  {
   "cell_type": "markdown",
   "metadata": {},
   "source": [
    "# MiniProject #3: Deep Reinforcement Learning"
   ]
  },
  {
   "cell_type": "code",
   "execution_count": 2,
   "metadata": {},
   "outputs": [
    {
     "data": {
      "text/plain": [
       "'C:\\\\ffmpeg\\\\bin'"
      ]
     },
     "execution_count": 2,
     "metadata": {},
     "output_type": "execute_result"
    }
   ],
   "source": [
    "skvideo.getFFmpegPath()"
   ]
  },
  {
   "cell_type": "markdown",
   "metadata": {},
   "source": [
    "__Notations__: $E_p$ is the expectation under probability $p$. Please justify each of your answer and widely comment your code."
   ]
  },
  {
   "cell_type": "markdown",
   "metadata": {},
   "source": [
    "# Context"
   ]
  },
  {
   "cell_type": "markdown",
   "metadata": {},
   "source": [
    "In a reinforcement learning algorithm, we modelize each step $t$ as an action $a_t$ obtained from a state $s_t$, i.e. $\\{(a_{t},s_{t})_{t\\leq T}\\}$ having the Markov property. We consider a discount factor $\\gamma \\in [0,1]$ that ensures convergence. The goal is to find among all the policies $\\pi$, one that maximizes the expected reward:\n",
    "\n",
    "\\begin{equation*}\n",
    "R(\\pi)=\\sum_{t\\leq T}E_{p^{\\pi}}[\\gamma^t r(s_{t},a_{t})] \\> ,\n",
    "\\end{equation*}\n",
    "\n",
    "where: \n",
    "\\begin{equation*}p^{\\pi}(a_{0},a_{1},s_{1},...,a_{T},s_{T})=p(a_{0})\\prod_{t=1}^{T}\\pi(a_{t}|s_{t})p(s_{t+1}|s_{t},a_{t}) \\> .\n",
    "\\end{equation*}\n",
    "\n",
    "We note the $Q$-function:\n",
    "\n",
    "\\begin{equation*}Q^\\pi(s,a)=E_{p^{\\pi}}[\\sum_{t\\leq T}\\gamma^{t}r(s_{t},a_{t})|s_{0}=s,a_{0}=a] \\> .\n",
    "\\end{equation*}\n",
    "\n",
    "Thus, the optimal Q function is:\n",
    "\\begin{equation*}\n",
    "Q^*(s,a)=\\max_{\\pi}Q^\\pi(s,a) \\> .\n",
    "\\end{equation*}\n",
    "\n",
    "In this project, we will apply the deep reinforcement learning techniques to a simple game: an agent will have to learn from scratch a policy that will permit it maximizing a reward."
   ]
  },
  {
   "cell_type": "markdown",
   "metadata": {},
   "source": [
    "## The environment, the agent and the game"
   ]
  },
  {
   "cell_type": "markdown",
   "metadata": {},
   "source": [
    "### The environment"
   ]
  },
  {
   "cell_type": "markdown",
   "metadata": {},
   "source": [
    "```Environment``` is an abstract class that represents the states, rewards, and actions to obtain the new state."
   ]
  },
  {
   "cell_type": "code",
   "execution_count": 6,
   "metadata": {},
   "outputs": [],
   "source": [
    "class Environment(object):\n",
    "    def __init__(self):\n",
    "        pass\n",
    "\n",
    "    def act(self, act):\n",
    "        \"\"\"\n",
    "        One can act on the environment and obtain its reaction:\n",
    "        - the new state\n",
    "        - the reward of the new state\n",
    "        - should we continue the game?\n",
    "\n",
    "        :return: state, reward, game_over\n",
    "        \"\"\"\n",
    "        pass\n",
    "\n",
    "\n",
    "    def reset(self):\n",
    "        \"\"\"\n",
    "        Reinitialize the environment to a random state and returns\n",
    "        the original state\n",
    "\n",
    "        :return: state\n",
    "        \"\"\"\n",
    "        pass\n",
    "    \n",
    "    def draw(self):\n",
    "        \"\"\"\n",
    "        Visualize in the console or graphically the current state\n",
    "        \"\"\"\n",
    "        pass"
   ]
  },
  {
   "cell_type": "markdown",
   "metadata": {},
   "source": [
    "The method ```act``` allows to act on the environment at a given state $s_t$ (stored internally), via action $a_t$. The method will return the new state $s_{t+1}$, the reward $r(s_{t},a_{t})$ and determines if $t\\leq T$ (*game_over*).\n",
    "\n",
    "The method ```reset``` simply reinitializes the environment to a random state $s_0$.\n",
    "\n",
    "The method ```draw``` displays the current state $s_t$ (this is useful to check the behavior of the Agent).\n",
    "\n",
    "We modelize $s_t$ as a tensor, while $a_t$ is an integer."
   ]
  },
  {
   "cell_type": "markdown",
   "metadata": {},
   "source": [
    "### The Agent"
   ]
  },
  {
   "cell_type": "markdown",
   "metadata": {},
   "source": [
    "The goal of the ```Agent``` is to interact with the ```Environment``` by proposing actions $a_t$ obtained from a given state $s_t$ to attempt to maximize its __reward__ $r(s_t,a_t)$. We propose the following abstract class:"
   ]
  },
  {
   "cell_type": "code",
   "execution_count": 7,
   "metadata": {},
   "outputs": [],
   "source": [
    "class Agent(object):\n",
    "    def __init__(self, epsilon=0.1, n_action=4):\n",
    "        self.epsilon = epsilon\n",
    "        self.n_action = n_action\n",
    "    \n",
    "    def set_epsilon(self,e):\n",
    "        self.epsilon = e\n",
    "\n",
    "    def act(self,s,train=False):\n",
    "        \"\"\" This function should return the next action to do:\n",
    "        an integer between 0 and 4 (not included) with a random exploration of epsilon\"\"\"\n",
    "        if train:\n",
    "            if np.random.rand() <= self.epsilon:\n",
    "                a = np.random.randint(0, self.n_action, size=1)[0]\n",
    "            else:\n",
    "                a = self.learned_act(s)\n",
    "        else: # in some cases, this can improve the performance.. remove it if poor performances\n",
    "            a = self.learned_act(s)\n",
    "\n",
    "        return a\n",
    "\n",
    "    def learned_act(self,s):\n",
    "        \"\"\" Act via the policy of the agent, from a given state s\n",
    "        it proposes an action a\"\"\"\n",
    "        pass\n",
    "\n",
    "    def reinforce(self, s, n_s, a, r, game_over_):\n",
    "        \"\"\" This function is the core of the learning algorithm. \n",
    "        It takes as an input the current state s_, the next state n_s_\n",
    "        the action a_ used to move from s_ to n_s_ and the reward r_.\n",
    "        \n",
    "        Its goal is to learn a policy.\n",
    "        \"\"\"\n",
    "        pass\n",
    "\n",
    "    def save(self):\n",
    "        \"\"\" This function returns basic stats if applicable: the\n",
    "        loss and/or the model\"\"\"\n",
    "        pass\n",
    "\n",
    "    def load(self):\n",
    "        \"\"\" This function allows to restore a model\"\"\"\n",
    "        pass"
   ]
  },
  {
   "cell_type": "markdown",
   "metadata": {},
   "source": [
    "***\n",
    "__Question 1__:\n",
    "Explain the function act. Why is ```epsilon``` essential?"
   ]
  },
  {
   "cell_type": "markdown",
   "metadata": {},
   "source": [
    "Epilson is used to make a balance between exploration and exploitation. The function act will use epsilon to select a random next action to force the algorithm to explore rather than just exploiting to find the optimal policies."
   ]
  },
  {
   "cell_type": "markdown",
   "metadata": {},
   "source": [
    "***\n",
    "### The Game"
   ]
  },
  {
   "cell_type": "markdown",
   "metadata": {},
   "source": [
    "The ```Agent``` and the ```Environment``` work in an interlaced way as in the following (take some time to understand this code as it is the core of the project)\n",
    "\n",
    "```python\n",
    "\n",
    "epoch = 300\n",
    "env = Environment()\n",
    "agent = Agent()\n",
    "\n",
    "\n",
    "# Number of won games\n",
    "score = 0\n",
    "loss = 0\n",
    "\n",
    "\n",
    "for e in range(epoch):\n",
    "    # At each epoch, we restart to a fresh game and get the initial state\n",
    "    state = env.reset()\n",
    "    # This assumes that the games will end\n",
    "    game_over = False\n",
    "\n",
    "    win = 0\n",
    "    lose = 0\n",
    "    \n",
    "    while not game_over:\n",
    "        # The agent performs an action\n",
    "        action = agent.act(state)\n",
    "\n",
    "        # Apply an action to the environment, get the next state, the reward\n",
    "        # and if the games end\n",
    "        prev_state = state\n",
    "        state, reward, game_over = env.act(action)\n",
    "\n",
    "        # Update the counters\n",
    "        if reward > 0:\n",
    "            win = win + reward\n",
    "        if reward < 0:\n",
    "            lose = lose -reward\n",
    "\n",
    "        # Apply the reinforcement strategy\n",
    "        loss = agent.reinforce(prev_state, state,  action, reward, game_over)\n",
    "\n",
    "    # Save as a mp4\n",
    "    if e % 10 == 0:\n",
    "        env.draw(e)\n",
    "\n",
    "    # Update stats\n",
    "    score += win-lose\n",
    "\n",
    "    print(\"Epoch {:03d}/{:03d} | Loss {:.4f} | Win/lose count {}/{} ({})\"\n",
    "          .format(e, epoch, loss, win, lose, win-lose))\n",
    "    agent.save()\n",
    "```"
   ]
  },
  {
   "cell_type": "markdown",
   "metadata": {},
   "source": [
    "# The game, *eat cheese*"
   ]
  },
  {
   "cell_type": "markdown",
   "metadata": {},
   "source": [
    "A rat runs on an island and tries to eat as much as possible. The island is subdivided into $N\\times N$ cells, in which there are cheese (+0.5) and poisonous cells (-1). The rat has a visibility of 2 cells (thus it can see $5^2$ cells). The rat is given a time $T$ to accumulate as much food as possible. It can perform 4 actions: going up, down, left, right. \n",
    "\n",
    "The goal is to code an agent to solve this task that will learn by trial and error. We propose the following environment:"
   ]
  },
  {
   "cell_type": "code",
   "execution_count": 8,
   "metadata": {},
   "outputs": [],
   "source": [
    "class Environment(object):\n",
    "    def __init__(self, grid_size=10, max_time=500, temperature=0.1):\n",
    "        grid_size = grid_size+4\n",
    "        self.grid_size = grid_size\n",
    "        self.max_time = max_time\n",
    "        self.temperature = temperature\n",
    "\n",
    "        #board on which one plays\n",
    "        self.board = np.zeros((grid_size,grid_size))\n",
    "        self.position = np.zeros((grid_size,grid_size))\n",
    "\n",
    "        # coordinate of the cat\n",
    "        self.x = 0\n",
    "        self.y = 1\n",
    "\n",
    "        # self time\n",
    "        self.t = 0\n",
    "\n",
    "        self.scale=16\n",
    "\n",
    "        self.to_draw = np.zeros((max_time+2, grid_size*self.scale, grid_size*self.scale, 3))\n",
    "\n",
    "\n",
    "    def draw(self,e):\n",
    "        skvideo.io.vwrite(str(e) + '.mp4', self.to_draw)\n",
    "\n",
    "    def get_frame(self,t):\n",
    "        b = np.zeros((self.grid_size,self.grid_size,3))+128\n",
    "        b[self.board>0,0] = 256\n",
    "        b[self.board < 0, 2] = 256\n",
    "        b[self.x,self.y,:]=256\n",
    "        b[-2:,:,:]=0\n",
    "        b[:,-2:,:]=0\n",
    "        b[:2,:,:]=0\n",
    "        b[:,:2,:]=0\n",
    "        \n",
    "        b =  cv2.resize(b, None, fx=self.scale, fy=self.scale, interpolation=cv2.INTER_NEAREST)\n",
    "\n",
    "        self.to_draw[t,:,:,:]=b\n",
    "\n",
    "\n",
    "    def act(self, action):\n",
    "        \"\"\"This function returns the new state, reward and decides if the\n",
    "        game ends.\"\"\"\n",
    "\n",
    "        self.get_frame(int(self.t))\n",
    "\n",
    "        self.position = np.zeros((self.grid_size, self.grid_size))\n",
    "\n",
    "        self.position[0:2,:]= -1\n",
    "        self.position[:,0:2] = -1\n",
    "        self.position[-2:, :] = -1\n",
    "        self.position[:, -2:] = -1\n",
    "\n",
    "        self.position[self.x, self.y] = 1\n",
    "        if action == 0:\n",
    "            if self.x == self.grid_size - 3:\n",
    "                self.x = self.x\n",
    "            else:\n",
    "                self.x = self.x + 1\n",
    "        elif action == 1:\n",
    "            if self.x == 2:\n",
    "                self.x = self.x\n",
    "            else:\n",
    "                self.x = self.x - 1\n",
    "        elif action == 2:\n",
    "            if self.y == self.grid_size - 3:\n",
    "                self.y = self.y\n",
    "            else:\n",
    "                self.y = self.y + 1\n",
    "        elif action == 3:\n",
    "            if self.y == 2:\n",
    "                self.y = self.y\n",
    "            else:\n",
    "                self.y = self.y - 1\n",
    "        else:\n",
    "            RuntimeError('Error: action not recognized')\n",
    "\n",
    "        self.t = self.t + 1\n",
    "        reward = self.board[self.x, self.y]\n",
    "        self.board[self.x, self.y] = 0\n",
    "        game_over = self.t > self.max_time\n",
    "        state = np.concatenate((self.board.reshape(self.grid_size, self.grid_size,1),\n",
    "                        self.position.reshape(self.grid_size, self.grid_size,1)),axis=2)\n",
    "        state = state[self.x-2:self.x+3,self.y-2:self.y+3,:]\n",
    "\n",
    "        return state, reward, game_over\n",
    "\n",
    "    def reset(self):\n",
    "        \"\"\"This function resets the game and returns the initial state\"\"\"\n",
    "\n",
    "        self.x = np.random.randint(3, self.grid_size-3, size=1)[0]\n",
    "        self.y = np.random.randint(3, self.grid_size-3, size=1)[0]\n",
    "\n",
    "\n",
    "        bonus = 0.5*np.random.binomial(1,self.temperature,size=self.grid_size**2)\n",
    "        bonus = bonus.reshape(self.grid_size,self.grid_size)\n",
    "\n",
    "        malus = -1.0*np.random.binomial(1,self.temperature,size=self.grid_size**2)\n",
    "        malus = malus.reshape(self.grid_size, self.grid_size)\n",
    "\n",
    "        self.to_draw = np.zeros((self.max_time+2, self.grid_size*self.scale, self.grid_size*self.scale, 3))\n",
    "\n",
    "\n",
    "        malus[bonus>0]=0\n",
    "\n",
    "        self.board = bonus + malus\n",
    "\n",
    "        self.position = np.zeros((self.grid_size, self.grid_size))\n",
    "        self.position[:2,:]= -1\n",
    "        self.position[:,:2] = -1\n",
    "        self.position[-2:, :] = -1\n",
    "        self.position[:, -2:] = -1\n",
    "        \n",
    "        self.board[self.position < 0] = 0\n",
    "        self.board[self.x,self.y] = 0\n",
    "        \n",
    "        self.t = 0\n",
    "\n",
    "        state = np.concatenate((\n",
    "                               self.board.reshape(self.grid_size, self.grid_size,1),\n",
    "                        self.position.reshape(self.grid_size, self.grid_size,1)),axis=2)\n",
    "        \n",
    "        state = state[self.x - 2:self.x + 3, self.y - 2:self.y + 3, :]\n",
    "        return state"
   ]
  },
  {
   "cell_type": "markdown",
   "metadata": {},
   "source": [
    "The following elements are important because they correspond to the hyper parameters for this project:"
   ]
  },
  {
   "cell_type": "code",
   "execution_count": 9,
   "metadata": {},
   "outputs": [],
   "source": [
    "# parameters\n",
    "size = 13\n",
    "T= 200\n",
    "temperature=0.3\n",
    "epochs_train= 300 # set small when debugging\n",
    "epochs_test= 50 # set small when debugging\n",
    "\n",
    "# display videos\n",
    "def display_videos(name):\n",
    "    video = io.open(name, 'r+b').read()\n",
    "    encoded = base64.b64encode(video)\n",
    "    return '''<video alt=\"test\" controls>\n",
    "                <source src=\"data:video/mp4;base64,{0}\" type=\"video/mp4\" />\n",
    "             </video>'''.format(encoded.decode('ascii'))"
   ]
  },
  {
   "cell_type": "markdown",
   "metadata": {},
   "source": [
    "\n",
    "__Question 2__ Explain the use of the arrays ```position``` and ```board```.\n",
    "\n",
    "\n",
    "The array position will be used to inform the mouse about the possible positions(0) and the impossible ones (-1). The array board outlines where the cheese and poison are. Since the mouse sees $5^2$ steps ahead, the two arrays will display the cells accordling to the mouse's position. "
   ]
  },
  {
   "cell_type": "markdown",
   "metadata": {},
   "source": [
    "## Random Agent"
   ]
  },
  {
   "cell_type": "markdown",
   "metadata": {},
   "source": [
    "***\n",
    "__Question 3__ Implement a random Agent (only ```learned_act``` needs to be implemented):"
   ]
  },
  {
   "cell_type": "code",
   "execution_count": 10,
   "metadata": {},
   "outputs": [],
   "source": [
    "class RandomAgent(Agent):\n",
    "    def __init__(self):\n",
    "        super(RandomAgent, self).__init__()\n",
    "        pass\n",
    "\n",
    "    def learned_act(self, s):\n",
    "        return np.random.randint(0, self.n_action)"
   ]
  },
  {
   "cell_type": "markdown",
   "metadata": {},
   "source": [
    "***\n",
    "***\n",
    "__Question 4__ Visualize the game moves. You need to fill in the following function for the evaluation:"
   ]
  },
  {
   "cell_type": "code",
   "execution_count": 11,
   "metadata": {},
   "outputs": [],
   "source": [
    "def test(agent, env, epochs, prefix=''):\n",
    "    # Number of won games\n",
    "    score = 0\n",
    "        \n",
    "    for e in range(1, epochs + 1):\n",
    "        # At each epoch, we restart to a fresh game and get the initial state\n",
    "        state = env.reset()\n",
    "        # This assumes that the games will end\n",
    "        game_over = False\n",
    "\n",
    "        win = 0\n",
    "        lose = 0\n",
    "\n",
    "        while not game_over:\n",
    "            # The agent performs an action\n",
    "            action = agent.act(state)\n",
    "\n",
    "            # Apply an action to the environment, get the next state, the reward\n",
    "            # and if the games end\n",
    "            prev_state = state\n",
    "            state, reward, game_over = env.act(action)\n",
    "\n",
    "            # Update the counters\n",
    "            if reward > 0:\n",
    "                win = win + reward\n",
    "            if reward < 0:\n",
    "                lose = lose -reward\n",
    "        \n",
    "        # Save as a mp4\n",
    "        env.draw(prefix + str(e))\n",
    "\n",
    "        # Update stats\n",
    "        score += win - lose\n",
    "\n",
    "        print(\"Win/lose count {}/{}. Average score ({})\".format(win, lose, score / e))\n",
    "    print('Final score: {}'.format(score / epochs))"
   ]
  },
  {
   "cell_type": "code",
   "execution_count": 70,
   "metadata": {},
   "outputs": [
    {
     "name": "stdout",
     "output_type": "stream",
     "text": [
      "Win/lose count 7.5/15.0. Average score (-7.5)\n",
      "Win/lose count 6.0/13.0. Average score (-7.25)\n",
      "Win/lose count 7.0/17.0. Average score (-8.166666666666666)\n",
      "Win/lose count 12.0/16.0. Average score (-7.125)\n",
      "Win/lose count 10.0/10.0. Average score (-5.7)\n",
      "Win/lose count 10.0/14.0. Average score (-5.416666666666667)\n",
      "Win/lose count 9.5/10.0. Average score (-4.714285714285714)\n",
      "Win/lose count 9.5/13.0. Average score (-4.5625)\n",
      "Win/lose count 4.5/9.0. Average score (-4.555555555555555)\n",
      "Win/lose count 7.5/15.0. Average score (-4.85)\n",
      "Win/lose count 7.5/11.0. Average score (-4.7272727272727275)\n",
      "Win/lose count 8.0/13.0. Average score (-4.75)\n",
      "Win/lose count 10.0/14.0. Average score (-4.6923076923076925)\n",
      "Win/lose count 8.5/17.0. Average score (-4.964285714285714)\n",
      "Win/lose count 9.5/11.0. Average score (-4.733333333333333)\n",
      "Win/lose count 10.0/15.0. Average score (-4.75)\n",
      "Win/lose count 2.0/7.0. Average score (-4.764705882352941)\n",
      "Win/lose count 12.0/18.0. Average score (-4.833333333333333)\n",
      "Win/lose count 10.0/14.0. Average score (-4.7894736842105265)\n",
      "Win/lose count 11.5/16.0. Average score (-4.775)\n",
      "Win/lose count 11.0/22.0. Average score (-5.071428571428571)\n",
      "Win/lose count 11.0/11.0. Average score (-4.840909090909091)\n",
      "Win/lose count 10.0/8.0. Average score (-4.543478260869565)\n",
      "Win/lose count 11.5/17.0. Average score (-4.583333333333333)\n",
      "Win/lose count 9.0/13.0. Average score (-4.56)\n",
      "Win/lose count 13.0/16.0. Average score (-4.5)\n",
      "Win/lose count 12.0/13.0. Average score (-4.37037037037037)\n",
      "Win/lose count 11.0/16.0. Average score (-4.392857142857143)\n",
      "Win/lose count 7.0/11.0. Average score (-4.379310344827586)\n",
      "Win/lose count 15.5/19.0. Average score (-4.35)\n",
      "Win/lose count 5.0/13.0. Average score (-4.467741935483871)\n",
      "Win/lose count 8.5/12.0. Average score (-4.4375)\n",
      "Win/lose count 8.5/14.0. Average score (-4.46969696969697)\n",
      "Win/lose count 11.0/16.0. Average score (-4.485294117647059)\n",
      "Win/lose count 7.0/13.0. Average score (-4.5285714285714285)\n",
      "Win/lose count 8.5/21.0. Average score (-4.75)\n",
      "Win/lose count 11.5/12.0. Average score (-4.635135135135135)\n",
      "Win/lose count 12.5/18.0. Average score (-4.657894736842105)\n",
      "Win/lose count 6.0/14.0. Average score (-4.743589743589744)\n",
      "Win/lose count 10.0/13.0. Average score (-4.7)\n",
      "Win/lose count 9.0/15.0. Average score (-4.7317073170731705)\n",
      "Win/lose count 13.5/14.0. Average score (-4.630952380952381)\n",
      "Win/lose count 7.0/13.0. Average score (-4.662790697674419)\n",
      "Win/lose count 14.0/19.0. Average score (-4.670454545454546)\n",
      "Win/lose count 9.5/11.0. Average score (-4.6)\n",
      "Win/lose count 9.0/14.0. Average score (-4.608695652173913)\n",
      "Win/lose count 3.5/10.0. Average score (-4.648936170212766)\n",
      "Win/lose count 8.0/12.0. Average score (-4.635416666666667)\n",
      "Win/lose count 9.0/13.0. Average score (-4.622448979591836)\n",
      "Win/lose count 7.0/10.0. Average score (-4.59)\n",
      "Final score: -4.59\n"
     ]
    },
    {
     "data": {
      "text/html": [
       "<video alt=\"test\" controls>\n",
       "                <source src=\"data:video/mp4;base64,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\" type=\"video/mp4\" />\n",
       "             </video>"
      ],
      "text/plain": [
       "<IPython.core.display.HTML object>"
      ]
     },
     "execution_count": 70,
     "metadata": {},
     "output_type": "execute_result"
    }
   ],
   "source": [
    "# Initialize the game\n",
    "env = Environment(grid_size=size, max_time=T, temperature=0.3)\n",
    "\n",
    "# Initialize the agent!\n",
    "agent = RandomAgent()\n",
    "\n",
    "test(agent, env, epochs_test, prefix='random')\n",
    "HTML(display_videos('random1.mp4'))"
   ]
  },
  {
   "cell_type": "markdown",
   "metadata": {},
   "source": [
    "***\n",
    "## DQN"
   ]
  },
  {
   "cell_type": "markdown",
   "metadata": {},
   "source": [
    "Let us assume here that $T=\\infty$.\n",
    "\n",
    "***\n",
    "__Question 5__ Let $\\pi$ be a policy, show that:\n",
    "\n",
    "\\begin{equation*}\n",
    "Q^{\\pi}(s,a)=E_{(s',a')\\sim p(.|s,a)}[r(s,a)+\\gamma Q^{\\pi}(s',a')]\n",
    "\\end{equation*}\n",
    "\n",
    "Then, show that for the optimal policy $\\pi^*$ (we assume its existence), the following holds: \n",
    "\n",
    "\\begin{equation*}\n",
    "Q^{*}(s,a)=E_{s'\\sim \\pi^*(.|s,a)}[r(s,a)+\\gamma\\max_{a'}Q^{*}(s',a')].\n",
    "\\end{equation*}\n",
    "Finally, deduce that a plausible objective is:\n",
    "\n",
    "\\begin{equation*}\n",
    "\\mathcal{L}(\\theta)=E_{s' \\sim \\pi^*(.|s,a)}\\Vert r+\\gamma\\max\\max_{a'}Q(s',a',\\theta)-Q(s,a,\\theta)\\Vert^{2}.\n",
    "\\end{equation*}\n",
    "\n",
    "\n"
   ]
  },
  {
   "cell_type": "markdown",
   "metadata": {},
   "source": []
  },
  {
   "cell_type": "markdown",
   "metadata": {},
   "source": [
    "#### Answer Q5"
   ]
  },
  {
   "cell_type": "markdown",
   "metadata": {},
   "source": [
    "##### 1- Prove\n",
    "\\begin{equation*}\n",
    "Q^{\\pi}(s,a)=E_{(s',a')\\sim p(.|s,a)}[r(s,a)+\\gamma Q^{\\pi}(s',a')]\n",
    "\\end{equation*}\n",
    "\n",
    "We know that   $r(s,a)=E_{(s',a')\\sim p(.|s,a)}(r(s,a))$  \n",
    "and  $Q^{\\pi}=E_{p^{\\pi}}(\\sum_{t\\leq T} \\gamma^{t}r(s_{t},a_{t})|s_{0}=s,a_{0}=a)=r(s,a)+\\gamma E_{p^{\\pi}}(\\sum_{t\\leq T} \\gamma^{t}r(s_{t+1},a_{t+1})|s_{0}=s,a_{0}=a)$  \n",
    "\n",
    "##### By developing the first part \n",
    "We have $r(s,a)=E(R(s_{0}=s,a_{0}=a))$. As $(s_{1},a_{1})\\sim p(.|s_{0},a_{0})$, so $(s_{1},a_{1})$ is $(s_{0},a_{0})$.\n",
    "Then, we have $E(R(s_{0},a_{0}))=E(E(R(s_{0},a_{0}))|s_{1},a_{1})$\n",
    "\n",
    "##### By developing the second part\n",
    "\n",
    "Assume $X=\\sum_{t\\leq T} \\gamma^{t}r(s_{t+1},a_{t+1}$. $X$ is $(s_{1},a_{1})$, then  $$E_{p^{\\pi}}(X|s_{0},a_{0})=E_{p^{\\pi}}(E_{p^{\\pi}}(X|s_{1},a_{1})|s_{0},a_{0})=E_{(s_{1},a_{1})\\sim{p^{\\pi}}(.|s_{0},a_{0})}(E_{p^{\\pi}}(X|s_{1},a_{1}))$$\n",
    "\n",
    "\n",
    "\n",
    "For $T=\\infty$, so we have $E_{p^{\\pi}}(X|s_{1}=s',a_{1}=a')=Q^{\\pi}(s',a')$, we will then have:\n",
    "\n",
    "\\begin{equation*}\n",
    "Q^{\\pi}(s,a)=E_{(s',a')\\sim p(.|s,a)}[r(s,a)+\\gamma Q^{\\pi}(s',a')]\n",
    "\\end{equation*}\n",
    "\n",
    "\n"
   ]
  },
  {
   "cell_type": "markdown",
   "metadata": {},
   "source": [
    "#### 2- Prove \n",
    "\n",
    "\\begin{equation*}\n",
    "Q^{*}(s,a)=E_{s'\\sim \\pi^*(.|s,a)}[r(s,a)+\\gamma\\max_{a'}Q^{*}(s',a')].\n",
    "\\end{equation*}\n",
    "\n",
    "Let $\\pi = (a_{0},\\pi')$ then Q* or optimal Q is: \n",
    "\\begin{align*}\n",
    "Q^{\\star}(s,a) &= \\max_{\\pi} Q^{\\pi}(s,a) \\\\\n",
    "&= r(s,a)  + \\gamma\\max_{a_{0},\\pi'} \\mathbb{E}_{(s',a')\\sim (\\mathbb{P}(.|s,a),\\pi(.|s'))}(Q^{\\pi}(s',a')) \\\\\n",
    "&= r(s,a)  + \\gamma\\max_{a_{0}} \\mathbb{E}_{s'\\sim \\mathbb{P}(.|s,a)}(Q^{\\star}(s',a_{0})) \\\\\n",
    "&= r(s,a)  + \\gamma\\mathbb{E}_{s'\\sim \\mathbb{P}(.|s,a)}(\\max_{a_{0}} Q^{\\star}(s',a_{0})) \\\\\n",
    "\\end{align*}\n",
    "\n"
   ]
  },
  {
   "cell_type": "markdown",
   "metadata": {},
   "source": [
    "##### 3-Prove\n",
    "\n",
    "\\begin{equation*}\n",
    "\\mathcal{L}(\\theta)=E_{s' \\sim \\pi^*(.|s,a)}\\Vert r+\\gamma\\max\\max_{a'}Q(s',a',\\theta)-Q(s,a,\\theta)\\Vert^{2}.\n",
    "\\end{equation*}\n",
    "\n",
    "The model becomes deterministic since we have Q*\n",
    "so the objective $\\mathcal{L}$ is plausible now:   $\\mathcal{L}(\\theta) = || r(s,a) + \\gamma \\max_{a'} Q(s',a',\\theta) - Q(s,a,\\theta)||^{2}$\n",
    "\n",
    "For $\\pi$ deterministic policy, we have $Q^{*}=Q^{\\pi} \\iff \\pi=\\pi^{*}$, with $\\pi^{*}$.\n"
   ]
  },
  {
   "cell_type": "markdown",
   "metadata": {},
   "source": [
    "***\n",
    "The DQN-learning algorithm relies on these derivations to train the parameters $\\theta$ of a Deep Neural Network:\n",
    "\n",
    "1. At the state $s_t$, select the action $a_t$ with best reward using $Q_t$ and store the results;\n",
    "\n",
    "2. Obtain the new state $s_{t+1}$ from the environment $p$;\n",
    "\n",
    "3. Store $(s_t,a_t,s_{t+1})$;\n",
    "\n",
    "4. Obtain $Q_{t+1}$ by minimizing  $\\mathcal{L}$ from a recovered batch from the previously stored results.\n",
    "\n",
    "***\n",
    "__Question 6__ Implement the class ```Memory``` that stores moves (in a replay buffer) via ```remember``` and provides a ```random_access``` to these. Specify a maximum memory size to avoid side effects. You can for example use a ```list()``` and set by default ```max_memory=100```."
   ]
  },
  {
   "cell_type": "code",
   "execution_count": 12,
   "metadata": {},
   "outputs": [],
   "source": [
    "class Memory(object):\n",
    "    def __init__(self, max_memory=100):\n",
    "        self.max_memory = max_memory\n",
    "        self.memory = list()\n",
    "\n",
    "    def remember(self, m):\n",
    "#         pass\n",
    "        self.memory.append(m)\n",
    "        self.memory = self.memory[:self.max_memory]\n",
    "\n",
    "    def random_access(self):\n",
    "#         pass\n",
    "        rn = np.random.randint(0, len(self.memory))\n",
    "        return self.memory[rn]"
   ]
  },
  {
   "cell_type": "markdown",
   "metadata": {},
   "source": [
    "***\n",
    "The pipeline we will use for training is given below:"
   ]
  },
  {
   "cell_type": "code",
   "execution_count": 13,
   "metadata": {},
   "outputs": [],
   "source": [
    "def train(agent,env,epoch,prefix=''):\n",
    "    # Number of won games\n",
    "    score = 0\n",
    "    loss = 0\n",
    "\n",
    "    for e in range(epoch):\n",
    "        # At each epoch, we restart to a fresh game and get the initial state\n",
    "        state = env.reset()\n",
    "        # This assumes that the games will terminate\n",
    "        game_over = False\n",
    "\n",
    "        win = 0\n",
    "        lose = 0\n",
    "\n",
    "        while not game_over:\n",
    "            # The agent performs an action\n",
    "            action = agent.act(state)\n",
    "\n",
    "            # Apply an action to the environment, get the next state, the reward\n",
    "            # and if the games end\n",
    "            prev_state = state\n",
    "            state, reward, game_over = env.act(action)\n",
    "\n",
    "            # Update the counters\n",
    "            if reward > 0:\n",
    "                win = win + reward\n",
    "            if reward < 0:\n",
    "                lose = lose -reward\n",
    "\n",
    "            # Apply the reinforcement strategy\n",
    "            loss = agent.reinforce(prev_state, state,  action, reward, game_over)\n",
    "\n",
    "        # Save as a mp4\n",
    "        if e % 10 == 0:\n",
    "            env.draw(prefix+str(e))\n",
    "\n",
    "        # Update stats\n",
    "        score += win-lose\n",
    "\n",
    "        print(\"Epoch {:03d}/{:03d} | Loss {:.4f} | Win/lose count {}/{} ({})\"\n",
    "              .format(e, epoch, loss, win, lose, win-lose))\n",
    "        agent.save(name_weights=prefix+'model.h5',name_model=prefix+'model.json')"
   ]
  },
  {
   "cell_type": "markdown",
   "metadata": {},
   "source": [
    "***\n",
    "__Question 7__ Implement the DQN training algorithm using a cascade of fully connected layers. You can use different learning rate, batch size or memory size parameters. In particular, the loss might oscillate while the player will start to win the games. You have to find a good criterium."
   ]
  },
  {
   "cell_type": "code",
   "execution_count": 35,
   "metadata": {},
   "outputs": [],
   "source": [
    "class DQN(Agent):\n",
    "    def __init__(self, grid_size,  epsilon = 0.1, memory_size=100, batch_size = 16,n_state=2):\n",
    "        super(DQN, self).__init__(epsilon = epsilon)\n",
    "\n",
    "        # Discount for Q learning\n",
    "        self.discount = 0.99\n",
    "        \n",
    "        self.grid_size = grid_size\n",
    "        \n",
    "        # number of state\n",
    "        self.n_state = n_state # each state is 5x5x2\n",
    "\n",
    "        # Memory\n",
    "        self.memory = Memory(memory_size)\n",
    "        \n",
    "        # Batch size when learning\n",
    "        self.batch_size = batch_size\n",
    "\n",
    "    def learned_act(self, s):\n",
    "        # we only use V functions?\n",
    "        return np.argmax(self.model.predict(s[None]))\n",
    "\n",
    "    def reinforce(self, s_, n_s_, a_, r_, game_over_):\n",
    "        # Two steps: first memorize the states, second learn from the pool\n",
    "\n",
    "        self.memory.remember([s_, n_s_, a_, r_, game_over_])\n",
    "        \n",
    "        input_states = np.zeros((self.batch_size, 5,5,self.n_state))\n",
    "        target_q = np.zeros((self.batch_size, 4))\n",
    "        \n",
    "        for i in range(self.batch_size):\n",
    "            ######## FILL IN\n",
    "            s_, n_s_, a_, r_, game_over_ = self.memory.random_access()\n",
    "            input_states[i] = s_\n",
    "            if game_over_:\n",
    "                Qf = np.zeros(4)\n",
    "            else:\n",
    "                Qf = self.model.predict(n_s_[None])[0]\n",
    "            #print(Qf)\n",
    "            target_q[i][a_] = r_ + self.discount * np.max(Qf) # size 4 ??\n",
    "            #print(np.max(Qf))\n",
    "                \n",
    "        ######## FILL IN target q and input states\n",
    "        # HINT: Clip the target to avoid exploding gradients.. -- clipping is a bit tighter\n",
    "        target_q = np.clip(target_q, -2, 2)\n",
    "\n",
    "        #print(input_states.shape, target_q.shape)\n",
    "        l = self.model.train_on_batch(input_states, target_q)\n",
    "\n",
    "        return l\n",
    "\n",
    "    def save(self,name_weights='model.h5',name_model='model.json'):\n",
    "        self.model.save_weights(name_weights, overwrite=True)\n",
    "        with open(name_model, \"w\") as outfile:\n",
    "            json.dump(self.model.to_json(), outfile)\n",
    "            \n",
    "    def load(self,name_weights='model.h5',name_model='model.json'):\n",
    "        with open(name_model, \"r\") as jfile:\n",
    "            model = model_from_json(json.load(jfile))\n",
    "        model.load_weights(name_weights)\n",
    "        model.compile(\"sgd\", \"mse\")\n",
    "        self.model = model\n",
    "\n",
    "            \n",
    "class DQN_FC(DQN):\n",
    "    def __init__(self, *args, lr=0.1,**kwargs):\n",
    "        super(DQN_FC, self).__init__( *args,**kwargs)\n",
    "        \n",
    "        # NN Model\n",
    "        \n",
    "        ####### FILL IN\n",
    "        model = Sequential()\n",
    "        model.add(Flatten(input_shape = (5,5,self.n_state)))\n",
    "        model.add(Dense(32,activation  = 'relu'))\n",
    "        model.add(Dense(4,activation = 'linear'))\n",
    "        \n",
    "        model.compile(sgd(lr=lr, decay=1e-4, momentum=0.0), \"mse\")\n",
    "        self.model = model"
   ]
  },
  {
   "cell_type": "code",
   "execution_count": 23,
   "metadata": {},
   "outputs": [
    {
     "name": "stdout",
     "output_type": "stream",
     "text": [
      "Epoch 000/050 | Loss 0.0006 | Win/lose count 2.0/2.0 (0.0)\n",
      "Epoch 001/050 | Loss 0.0035 | Win/lose count 0/1.0 (-1.0)\n",
      "Epoch 002/050 | Loss 0.0028 | Win/lose count 0/1.0 (-1.0)\n",
      "Epoch 003/050 | Loss 0.0003 | Win/lose count 0/1.0 (-1.0)\n",
      "Epoch 004/050 | Loss 0.0001 | Win/lose count 3.0/4.0 (-1.0)\n",
      "Epoch 005/050 | Loss 0.0015 | Win/lose count 0.5/0 (0.5)\n",
      "Epoch 006/050 | Loss 0.0018 | Win/lose count 2.0/4.0 (-2.0)\n",
      "Epoch 007/050 | Loss 0.0007 | Win/lose count 1.0/1.0 (0.0)\n",
      "Epoch 008/050 | Loss 0.0017 | Win/lose count 2.0/3.0 (-1.0)\n",
      "Epoch 009/050 | Loss 0.0017 | Win/lose count 0.5/1.0 (-0.5)\n",
      "Epoch 010/050 | Loss 0.0009 | Win/lose count 1.5/1.0 (0.5)\n",
      "Epoch 011/050 | Loss 0.0006 | Win/lose count 1.0/1.0 (0.0)\n",
      "Epoch 012/050 | Loss 0.0003 | Win/lose count 1.0/0 (1.0)\n",
      "Epoch 013/050 | Loss 0.0013 | Win/lose count 0/0 (0)\n",
      "Epoch 014/050 | Loss 0.0009 | Win/lose count 1.0/0 (1.0)\n",
      "Epoch 015/050 | Loss 0.0006 | Win/lose count 0.5/1.0 (-0.5)\n",
      "Epoch 016/050 | Loss 0.0000 | Win/lose count 0/2.0 (-2.0)\n",
      "Epoch 017/050 | Loss 0.0001 | Win/lose count 2.0/2.0 (0.0)\n",
      "Epoch 018/050 | Loss 0.0004 | Win/lose count 1.0/0 (1.0)\n",
      "Epoch 019/050 | Loss 0.0001 | Win/lose count 1.5/2.0 (-0.5)\n",
      "Epoch 020/050 | Loss 0.0000 | Win/lose count 1.0/0 (1.0)\n",
      "Epoch 021/050 | Loss 0.0000 | Win/lose count 2.5/0 (2.5)\n",
      "Epoch 022/050 | Loss 0.0000 | Win/lose count 4.5/2.0 (2.5)\n",
      "Epoch 023/050 | Loss 0.0003 | Win/lose count 1.0/4.0 (-3.0)\n",
      "Epoch 024/050 | Loss 0.0003 | Win/lose count 0/2.0 (-2.0)\n",
      "Epoch 025/050 | Loss 0.0000 | Win/lose count 1.0/0 (1.0)\n",
      "Epoch 026/050 | Loss 0.0000 | Win/lose count 0/0 (0)\n",
      "Epoch 027/050 | Loss 0.0000 | Win/lose count 0/1.0 (-1.0)\n",
      "Epoch 028/050 | Loss 0.0000 | Win/lose count 1.5/4.0 (-2.5)\n",
      "Epoch 029/050 | Loss 0.0001 | Win/lose count 1.0/0 (1.0)\n",
      "Epoch 030/050 | Loss 0.0001 | Win/lose count 2.0/1.0 (1.0)\n",
      "Epoch 031/050 | Loss 0.0001 | Win/lose count 2.0/0 (2.0)\n",
      "Epoch 032/050 | Loss 0.0000 | Win/lose count 0.5/0 (0.5)\n",
      "Epoch 033/050 | Loss 0.0000 | Win/lose count 0.5/0 (0.5)\n",
      "Epoch 034/050 | Loss 0.0000 | Win/lose count 2.5/2.0 (0.5)\n",
      "Epoch 035/050 | Loss 0.0001 | Win/lose count 1.5/4.0 (-2.5)\n",
      "Epoch 036/050 | Loss 0.0000 | Win/lose count 1.0/0 (1.0)\n",
      "Epoch 037/050 | Loss 0.0000 | Win/lose count 2.0/5.0 (-3.0)\n",
      "Epoch 038/050 | Loss 0.0000 | Win/lose count 0/0 (0)\n",
      "Epoch 039/050 | Loss 0.0000 | Win/lose count 0.5/3.0 (-2.5)\n",
      "Epoch 040/050 | Loss 0.0000 | Win/lose count 0.5/0 (0.5)\n",
      "Epoch 041/050 | Loss 0.0000 | Win/lose count 2.0/1.0 (1.0)\n",
      "Epoch 042/050 | Loss 0.0000 | Win/lose count 1.0/1.0 (0.0)\n",
      "Epoch 043/050 | Loss 0.0000 | Win/lose count 2.0/1.0 (1.0)\n",
      "Epoch 044/050 | Loss 0.0000 | Win/lose count 1.5/2.0 (-0.5)\n",
      "Epoch 045/050 | Loss 0.0000 | Win/lose count 0.5/1.0 (-0.5)\n",
      "Epoch 046/050 | Loss 0.0000 | Win/lose count 0.5/0 (0.5)\n",
      "Epoch 047/050 | Loss 0.0000 | Win/lose count 0/0 (0)\n",
      "Epoch 048/050 | Loss 0.0000 | Win/lose count 3.5/1.0 (2.5)\n",
      "Epoch 049/050 | Loss 0.0000 | Win/lose count 0.5/1.0 (-0.5)\n"
     ]
    },
    {
     "data": {
      "text/html": [
       "<video alt=\"test\" controls>\n",
       "                <source src=\"data:video/mp4;base64,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\" type=\"video/mp4\" />\n",
       "             </video>"
      ],
      "text/plain": [
       "<IPython.core.display.HTML object>"
      ]
     },
     "execution_count": 23,
     "metadata": {},
     "output_type": "execute_result"
    }
   ],
   "source": [
    "epochs_train= 50\n",
    "env = Environment(grid_size=size, max_time=T, temperature=0.3)\n",
    "agent = DQN_FC(size, lr=.1, epsilon = 0.1, memory_size=200, batch_size = 32)\n",
    "train(agent, env, epochs_train, prefix='fc_train')\n",
    "HTML(display_videos('fc_train40.mp4'))"
   ]
  },
  {
   "cell_type": "markdown",
   "metadata": {},
   "source": [
    "***\n",
    "***\n",
    "__Question 8__ Implement the DQN training algorithm using a CNN (for example, 2 convolutional layers and one final fully connected layer)."
   ]
  },
  {
   "cell_type": "code",
   "execution_count": 36,
   "metadata": {},
   "outputs": [],
   "source": [
    "class DQN_CNN(DQN):\n",
    "    def __init__(self, *args,lr=0.1,**kwargs):\n",
    "        super(DQN_CNN, self).__init__(*args,**kwargs)\n",
    "        \n",
    "        model = Sequential()\n",
    "        model.add(Conv2D(32,kernel_size = (2,2), activation = 'relu',input_shape = (5,5,self.n_state)))\n",
    "        model.add(Conv2D(32,kernel_size = (2,2), activation = 'relu'))\n",
    "        model.add(Dropout(0.1))\n",
    "        model.add(Flatten())\n",
    "        model.add(Dense(32,activation = 'relu'))\n",
    "        model.add(Dense(4,activation = 'linear'))\n",
    "    \n",
    "        \n",
    "        model.compile(sgd(lr=lr, decay=1e-4, momentum=0.0), \"mse\")\n",
    "        self.model = model"
   ]
  },
  {
   "cell_type": "code",
   "execution_count": 26,
   "metadata": {},
   "outputs": [
    {
     "name": "stdout",
     "output_type": "stream",
     "text": [
      "Epoch 000/050 | Loss 0.0096 | Win/lose count 3.0/2.0 (1.0)\n",
      "Epoch 001/050 | Loss 0.0004 | Win/lose count 3.0/2.0 (1.0)\n",
      "Epoch 002/050 | Loss 0.0006 | Win/lose count 0/0 (0)\n",
      "Epoch 003/050 | Loss 0.0005 | Win/lose count 0.5/0 (0.5)\n",
      "Epoch 004/050 | Loss 0.0019 | Win/lose count 1.0/3.0 (-2.0)\n",
      "Epoch 005/050 | Loss 0.0029 | Win/lose count 3.5/2.0 (1.5)\n",
      "Epoch 006/050 | Loss 0.0002 | Win/lose count 0/2.0 (-2.0)\n",
      "Epoch 007/050 | Loss 0.0015 | Win/lose count 1.0/0 (1.0)\n",
      "Epoch 008/050 | Loss 0.0034 | Win/lose count 0.5/0 (0.5)\n",
      "Epoch 009/050 | Loss 0.0021 | Win/lose count 4.0/1.0 (3.0)\n",
      "Epoch 010/050 | Loss 0.0004 | Win/lose count 1.0/1.0 (0.0)\n",
      "Epoch 011/050 | Loss 0.0005 | Win/lose count 2.5/0 (2.5)\n",
      "Epoch 012/050 | Loss 0.0040 | Win/lose count 3.5/1.0 (2.5)\n",
      "Epoch 013/050 | Loss 0.0018 | Win/lose count 5.0/1.0 (4.0)\n",
      "Epoch 014/050 | Loss 0.0042 | Win/lose count 0.5/3.0 (-2.5)\n",
      "Epoch 015/050 | Loss 0.0002 | Win/lose count 2.5/0 (2.5)\n",
      "Epoch 016/050 | Loss 0.0008 | Win/lose count 2.0/3.0 (-1.0)\n",
      "Epoch 017/050 | Loss 0.0015 | Win/lose count 0.5/0 (0.5)\n",
      "Epoch 018/050 | Loss 0.0002 | Win/lose count 2.0/0 (2.0)\n",
      "Epoch 019/050 | Loss 0.0004 | Win/lose count 3.0/0 (3.0)\n",
      "Epoch 020/050 | Loss 0.0003 | Win/lose count 2.0/2.0 (0.0)\n",
      "Epoch 021/050 | Loss 0.0024 | Win/lose count 1.0/1.0 (0.0)\n",
      "Epoch 022/050 | Loss 0.0009 | Win/lose count 3.5/2.0 (1.5)\n",
      "Epoch 023/050 | Loss 0.0005 | Win/lose count 2.5/0 (2.5)\n",
      "Epoch 024/050 | Loss 0.0001 | Win/lose count 1.0/2.0 (-1.0)\n",
      "Epoch 025/050 | Loss 0.0003 | Win/lose count 1.0/0 (1.0)\n",
      "Epoch 026/050 | Loss 0.0001 | Win/lose count 3.0/0 (3.0)\n",
      "Epoch 027/050 | Loss 0.0019 | Win/lose count 2.0/3.0 (-1.0)\n",
      "Epoch 028/050 | Loss 0.0009 | Win/lose count 0/0 (0)\n",
      "Epoch 029/050 | Loss 0.0004 | Win/lose count 2.0/2.0 (0.0)\n",
      "Epoch 030/050 | Loss 0.0006 | Win/lose count 0/4.0 (-4.0)\n",
      "Epoch 031/050 | Loss 0.0016 | Win/lose count 1.5/1.0 (0.5)\n",
      "Epoch 032/050 | Loss 0.0005 | Win/lose count 0.5/0 (0.5)\n",
      "Epoch 033/050 | Loss 0.0013 | Win/lose count 1.0/1.0 (0.0)\n",
      "Epoch 034/050 | Loss 0.0001 | Win/lose count 2.0/1.0 (1.0)\n",
      "Epoch 035/050 | Loss 0.0001 | Win/lose count 2.5/2.0 (0.5)\n",
      "Epoch 036/050 | Loss 0.0012 | Win/lose count 2.0/3.0 (-1.0)\n",
      "Epoch 037/050 | Loss 0.0009 | Win/lose count 3.0/3.0 (0.0)\n",
      "Epoch 038/050 | Loss 0.0008 | Win/lose count 0.5/2.0 (-1.5)\n",
      "Epoch 039/050 | Loss 0.0002 | Win/lose count 2.0/0 (2.0)\n",
      "Epoch 040/050 | Loss 0.0009 | Win/lose count 2.5/1.0 (1.5)\n",
      "Epoch 041/050 | Loss 0.0004 | Win/lose count 2.0/3.0 (-1.0)\n",
      "Epoch 042/050 | Loss 0.0003 | Win/lose count 2.5/0 (2.5)\n",
      "Epoch 043/050 | Loss 0.0001 | Win/lose count 3.0/2.0 (1.0)\n",
      "Epoch 044/050 | Loss 0.0002 | Win/lose count 0.5/0 (0.5)\n",
      "Epoch 045/050 | Loss 0.0021 | Win/lose count 3.0/0 (3.0)\n",
      "Epoch 046/050 | Loss 0.0006 | Win/lose count 0.5/0 (0.5)\n",
      "Epoch 047/050 | Loss 0.0006 | Win/lose count 1.5/2.0 (-0.5)\n",
      "Epoch 048/050 | Loss 0.0001 | Win/lose count 4.0/2.0 (2.0)\n",
      "Epoch 049/050 | Loss 0.0002 | Win/lose count 0.5/0 (0.5)\n"
     ]
    },
    {
     "data": {
      "text/html": [
       "<video alt=\"test\" controls>\n",
       "                <source src=\"data:video/mp4;base64,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\" type=\"video/mp4\" />\n",
       "             </video>"
      ],
      "text/plain": [
       "<IPython.core.display.HTML object>"
      ]
     },
     "execution_count": 26,
     "metadata": {},
     "output_type": "execute_result"
    }
   ],
   "source": [
    "env = Environment(grid_size=size, max_time=T, temperature=0.3)\n",
    "agent = DQN_CNN(size, lr=.1, epsilon = 0.1, memory_size=200, batch_size = 32)\n",
    "train(agent,env,epochs_train,prefix='cnn_train')\n",
    "HTML(display_videos('cnn_train40.mp4'))"
   ]
  },
  {
   "cell_type": "markdown",
   "metadata": {},
   "source": [
    "***\n",
    "***\n",
    "__Question 9__ Test both algorithms and compare their performances. Which issue(s) do you observe? Observe also different behaviors by changing the temperature."
   ]
  },
  {
   "cell_type": "code",
   "execution_count": 42,
   "metadata": {},
   "outputs": [
    {
     "name": "stdout",
     "output_type": "stream",
     "text": [
      "Test of the CNN\n",
      "Win/lose count 0/0. Average score (0.0)\n",
      "Win/lose count 2.0/0. Average score (1.0)\n",
      "Win/lose count 0.5/0. Average score (0.8333333333333334)\n",
      "Win/lose count 0/3.0. Average score (-0.125)\n",
      "Win/lose count 0.5/2.0. Average score (-0.4)\n",
      "Win/lose count 2.0/4.0. Average score (-0.6666666666666666)\n",
      "Win/lose count 3.0/3.0. Average score (-0.5714285714285714)\n",
      "Win/lose count 1.0/1.0. Average score (-0.5)\n",
      "Win/lose count 0.5/1.0. Average score (-0.5)\n",
      "Win/lose count 1.0/2.0. Average score (-0.55)\n",
      "Win/lose count 2.0/1.0. Average score (-0.4090909090909091)\n",
      "Win/lose count 1.0/0. Average score (-0.2916666666666667)\n",
      "Win/lose count 1.0/1.0. Average score (-0.2692307692307692)\n",
      "Win/lose count 1.5/3.0. Average score (-0.35714285714285715)\n",
      "Win/lose count 3.5/1.0. Average score (-0.16666666666666666)\n",
      "Win/lose count 4.0/0. Average score (0.09375)\n",
      "Win/lose count 1.0/1.0. Average score (0.08823529411764706)\n",
      "Win/lose count 4.0/5.0. Average score (0.027777777777777776)\n",
      "Win/lose count 3.0/2.0. Average score (0.07894736842105263)\n",
      "Win/lose count 5.5/1.0. Average score (0.3)\n",
      "Win/lose count 2.0/3.0. Average score (0.23809523809523808)\n",
      "Win/lose count 1.5/2.0. Average score (0.20454545454545456)\n",
      "Win/lose count 1.5/1.0. Average score (0.21739130434782608)\n",
      "Win/lose count 4.5/2.0. Average score (0.3125)\n",
      "Win/lose count 2.0/0. Average score (0.38)\n",
      "Win/lose count 2.5/1.0. Average score (0.4230769230769231)\n",
      "Win/lose count 2.0/3.0. Average score (0.37037037037037035)\n",
      "Win/lose count 1.5/0. Average score (0.4107142857142857)\n",
      "Win/lose count 0.5/4.0. Average score (0.27586206896551724)\n",
      "Win/lose count 1.0/1.0. Average score (0.26666666666666666)\n",
      "Win/lose count 2.5/2.0. Average score (0.27419354838709675)\n",
      "Win/lose count 0/0. Average score (0.265625)\n",
      "Win/lose count 4.5/1.0. Average score (0.36363636363636365)\n",
      "Win/lose count 2.0/1.0. Average score (0.38235294117647056)\n",
      "Win/lose count 2.0/0. Average score (0.42857142857142855)\n",
      "Win/lose count 0/1.0. Average score (0.3888888888888889)\n",
      "Win/lose count 0.5/0. Average score (0.3918918918918919)\n",
      "Win/lose count 1.0/0. Average score (0.40789473684210525)\n",
      "Win/lose count 1.5/1.0. Average score (0.41025641025641024)\n",
      "Win/lose count 1.5/0. Average score (0.4375)\n",
      "Win/lose count 0.5/2.0. Average score (0.3902439024390244)\n",
      "Win/lose count 1.0/1.0. Average score (0.38095238095238093)\n",
      "Win/lose count 0/0. Average score (0.37209302325581395)\n",
      "Win/lose count 3.0/2.0. Average score (0.38636363636363635)\n",
      "Win/lose count 2.0/3.0. Average score (0.35555555555555557)\n",
      "Win/lose count 5.0/2.0. Average score (0.41304347826086957)\n",
      "Win/lose count 0.5/1.0. Average score (0.39361702127659576)\n",
      "Win/lose count 0/3.0. Average score (0.3229166666666667)\n",
      "Win/lose count 2.0/2.0. Average score (0.3163265306122449)\n",
      "Win/lose count 0.5/0. Average score (0.32)\n",
      "Final score: 0.32\n",
      "Test of the FC\n",
      "Win/lose count 4.0/1.0. Average score (3.0)\n",
      "Win/lose count 3.5/2.0. Average score (2.25)\n",
      "Win/lose count 0/1.0. Average score (1.1666666666666667)\n",
      "Win/lose count 1.0/1.0. Average score (0.875)\n",
      "Win/lose count 2.5/1.0. Average score (1.0)\n",
      "Win/lose count 0/0. Average score (0.8333333333333334)\n",
      "Win/lose count 0.5/3.0. Average score (0.35714285714285715)\n",
      "Win/lose count 0.5/0. Average score (0.375)\n",
      "Win/lose count 0/3.0. Average score (0.0)\n",
      "Win/lose count 0/1.0. Average score (-0.1)\n",
      "Win/lose count 2.0/1.0. Average score (0.0)\n",
      "Win/lose count 3.5/3.0. Average score (0.041666666666666664)\n",
      "Win/lose count 2.0/6.0. Average score (-0.2692307692307692)\n",
      "Win/lose count 1.0/1.0. Average score (-0.25)\n",
      "Win/lose count 0/1.0. Average score (-0.3)\n",
      "Win/lose count 0.5/0. Average score (-0.25)\n",
      "Win/lose count 0/0. Average score (-0.23529411764705882)\n",
      "Win/lose count 1.5/2.0. Average score (-0.25)\n",
      "Win/lose count 0/1.0. Average score (-0.2894736842105263)\n",
      "Win/lose count 1.0/1.0. Average score (-0.275)\n",
      "Win/lose count 2.5/2.0. Average score (-0.23809523809523808)\n",
      "Win/lose count 1.0/0. Average score (-0.18181818181818182)\n",
      "Win/lose count 1.0/1.0. Average score (-0.17391304347826086)\n",
      "Win/lose count 1.0/1.0. Average score (-0.16666666666666666)\n",
      "Win/lose count 3.0/2.0. Average score (-0.12)\n",
      "Win/lose count 2.0/3.0. Average score (-0.15384615384615385)\n",
      "Win/lose count 1.0/3.0. Average score (-0.2222222222222222)\n",
      "Win/lose count 4.0/2.0. Average score (-0.14285714285714285)\n",
      "Win/lose count 3.0/3.0. Average score (-0.13793103448275862)\n",
      "Win/lose count 1.0/3.0. Average score (-0.2)\n",
      "Win/lose count 1.5/1.0. Average score (-0.1774193548387097)\n",
      "Win/lose count 1.5/1.0. Average score (-0.15625)\n",
      "Win/lose count 0/2.0. Average score (-0.21212121212121213)\n",
      "Win/lose count 0.5/0. Average score (-0.19117647058823528)\n",
      "Win/lose count 4.0/3.0. Average score (-0.15714285714285714)\n",
      "Win/lose count 0.5/5.0. Average score (-0.2777777777777778)\n",
      "Win/lose count 0/1.0. Average score (-0.2972972972972973)\n",
      "Win/lose count 0.5/0. Average score (-0.27631578947368424)\n",
      "Win/lose count 0.5/0. Average score (-0.2564102564102564)\n",
      "Win/lose count 0/1.0. Average score (-0.275)\n",
      "Win/lose count 0.5/1.0. Average score (-0.2804878048780488)\n",
      "Win/lose count 0/0. Average score (-0.27380952380952384)\n",
      "Win/lose count 0/1.0. Average score (-0.29069767441860467)\n",
      "Win/lose count 2.0/0. Average score (-0.23863636363636365)\n",
      "Win/lose count 1.0/1.0. Average score (-0.23333333333333334)\n",
      "Win/lose count 0.5/1.0. Average score (-0.2391304347826087)\n",
      "Win/lose count 1.5/1.0. Average score (-0.22340425531914893)\n",
      "Win/lose count 3.5/4.0. Average score (-0.22916666666666666)\n",
      "Win/lose count 1.5/1.0. Average score (-0.21428571428571427)\n",
      "Win/lose count 0.5/2.0. Average score (-0.24)\n",
      "Final score: -0.24\n"
     ]
    }
   ],
   "source": [
    "env = Environment(grid_size=size, max_time=T,temperature=0.4)\n",
    "agent_cnn = DQN_CNN(size, lr=.09, epsilon = 0.1, memory_size=150, batch_size = 32)\n",
    "agent_cnn.load(name_weights='cnn_trainmodel.h5',name_model='cnn_trainmodel.json')\n",
    "\n",
    "agent_fc = DQN_FC(size, lr=.11, epsilon = 0.1, memory_size=150, batch_size = 32)\n",
    "agent_cnn.load(name_weights='fc_trainmodel.h5',name_model='fc_trainmodel.json')\n",
    "print('Test of the CNN')\n",
    "test(agent_cnn,env,epochs_test,prefix='cnn_test')\n",
    "print('Test of the FC')\n",
    "test(agent_fc,env,epochs_test,prefix='fc_test')"
   ]
  },
  {
   "cell_type": "code",
   "execution_count": 43,
   "metadata": {},
   "outputs": [
    {
     "data": {
      "text/html": [
       "<video alt=\"test\" controls>\n",
       "                <source src=\"data:video/mp4;base64,AAAAIGZ0eXBpc29tAAACAGlzb21pc28yYXZjMW1wNDEAAAAIZnJlZQAAGPVtZGF0AAACrQYF//+p3EXpvebZSLeWLNgg2SPu73gyNjQgLSBjb3JlIDE1NSByMjkwMSA3ZDBmZjIyIC0gSC4yNjQvTVBFRy00IEFWQyBjb2RlYyAtIENvcHlsZWZ0IDIwMDMtMjAxOCAtIGh0dHA6Ly93d3cudmlkZW9sYW4ub3JnL3gyNjQuaHRtbCAtIG9wdGlvbnM6IGNhYmFjPTEgcmVmPTMgZGVibG9jaz0xOjA6MCBhbmFseXNlPTB4MToweDExMSBtZT1oZXggc3VibWU9NyBwc3k9MSBwc3lfcmQ9MS4wMDowLjAwIG1peGVkX3JlZj0xIG1lX3JhbmdlPTE2IGNocm9tYV9tZT0xIHRyZWxsaXM9MSA4eDhkY3Q9MCBjcW09MCBkZWFkem9uZT0yMSwxMSBmYXN0X3Bza2lwPTEgY2hyb21hX3FwX29mZnNldD00IHRocmVhZHM9OCBsb29rYWhlYWRfdGhyZWFkcz0xIHNsaWNlZF90aHJlYWRzPTAgbnI9MCBkZWNpbWF0ZT0xIGludGVybGFjZWQ9MCBibHVyYXlfY29tcGF0PTAgY29uc3RyYWluZWRfaW50cmE9MCBiZnJhbWVzPTMgYl9weXJhbWlkPTIgYl9hZGFwdD0xIGJfYmlhcz0wIGRpcmVjdD0xIHdlaWdodGI9MSBvcGVuX2dvcD0wIHdlaWdodHA9MiBrZXlpbnQ9MjUwIGtleWludF9taW49MjUgc2NlbmVjdXQ9NDAgaW50cmFfcmVmcmVzaD0wIHJjX2xvb2thaGVhZD00MCByYz1jcmYgbWJ0cmVlPTEgY3JmPTIzLjAgcWNvbXA9MC42MCBxcG1pbj0wIHFwbWF4PTY5IHFwc3RlcD00IGlwX3JhdGlvPTEuNDAgYXE9MToxLjAwAIAAAAMRZYiEADf//vaH+BTZWBP+Wb/9DX/cj9uPrP1xYyEE31qvIejAGS+1H+b/rFFs6Z6UB/fgCJQAc24ZwpHZJ3jjhJSYReqPgUuAn34FNJkRcBCyyf4lLZI51u/uRzDYWmZ6csuiXRFC5JSMooWEp8HQkPbl2F8YI87EfJbzNL+8jfrR60cemh9U9QrKLvqjipOV/l/nYFMnRCw55mQY4Tu21ef7ieTtFKsWlRjqOhq8NIpqXVgdVh1DE+b4fmFabMGvx0tbP6mbnA+Gw2BmQTMbBDAUdv3jtdms0XXWSA3wjCSnfDwtm2DqWrIaOwcLVPIbHOalX1bBDg1+wkfmEakwT/kBdjL/illISPaPeFY52kNrbeNf6rkzv2ZPJ0l0inHVnG8ei0hazCKLDRXsgAFzAnNaDf9Gjiaq/js7ojEypY/IWFAS1BM8MPvREchBLBSGjwI+2xFRZMpFQRZ7HyZkMye9lECPkXS3+FRelY/efs1OcASPGmNLGY9aNHxTt+NJpYgIO9YK+wrO4sQig4y13D/RTmQWsEz80qmCvxBouGj38iWwwPJD1YgBNUgAu0YpAcFjxkq1bgSYeQa+fKkySNaOjZkZwrIjEQ/wlFx7RdTVMfb9gYN9hiE0dmVkqD0gKkt/IXiH35ElJKapl6BHQl+0VIwGEI9gDYwlL7TuSccVv6211VMquQ28kEW3KZWra+nuG2Qf/TFfc3dyHaWSgwEBfY/TAQEta6sy5YsxcVIzbPjws31TsQAgL4S4THzub3QemIhdSKoXAMO/FcRO3i9ENm4aTd8T2gtxENw7gbWIQoNZ+AwrPMjM1kwn/6W3SZvKUVc7v4cMjvXswKjhmgreT0HACr6+aWdBmopDqLfeU4aP7wfecuDKgF7KJfHasFV5WltEDLnMHUGPM27MmbyOOgYzn4RojI8bNfwFsWaIVqxky8me6R2KFcgNQ9WWc7D4uK95eFlPaTuqDHHX09OuVBwVMcVI2JAMsCnnAwIWV39K2fZ7wZh4UlEddGmxPgwVdBNH/+eE+QPqKgAA24EAAAATQZohbEN//qeEAAYn2D2P58EYigAAACtBmkQ8IZMphDf//qeEAA3frDcyyvGGfgUy2dnwKFJdu94BNf0Afyh7e5GhAAAAE0GeYmpTwr8AC12RDLljZ/vQ7MAAAAAQAZ6DakK/AAtdkQm4z69V+QAAABlBmohJqEFomUwIZ//+nhAANP6+/oV0cm+BAAAAE0GepkURLC//AAgvnmJKhfRZYrsAAAAQAZ7FdEK/AAtaa0ZJb/YhwQAAABABnsdqQr8AC12PLcNm1ZqAAAAAGEGayUmoQWyZTAhv//6nhAANzaT3wwI3CwAAABdBmupJ4QpSZTAhv/6nhAANj7B/hbpOpwAAABdBmw1J4Q6JlMCG//6nhAANfag2+Y/F6QAAABJBnytFETwr/wALFZELsN9L1jgAAAAQAZ9MakK/AAtajRMiaVoLQQAAABhBm05JqEFomUwIb//+p4QADY+wf4W6TqcAAAAXQZtxSeEKUmUwIb/+p4QADX2oNvmPxekAAAARQZ+PRTRMK/8ACxWRDRV8WOAAAAAQAZ+wakK/AAtajRMiaVoLQAAAABhBm7JJqEFomUwIb//+p4QADY+wf4W6TqcAAAAXQZvVSeEKUmUwIb/+p4QADX2oNvmPxekAAAARQZ/zRTRMK/8ACxWRDRV8WOAAAAAQAZ4UakK/AAtajRMiaVoLQQAAABhBmhZJqEFomUwIb//+p4QADY+wf4W6TqcAAAAXQZo5SeEKUmUwIb/+p4QADX2oNvmPxekAAAARQZ5XRTRMK/8ACxWRDRV8WOEAAAAQAZ54akK/AAtajRMiaVoLQAAAABhBmnpJqEFomUwIb//+p4QADY+wf4W6TqcAAAAXQZqdSeEKUmUwIb/+p4QADX2oNvmPxekAAAARQZ67RTRMK/8ACxWRDRV8WOEAAAAQAZ7cakK/AAtajRMiaVoLQQAAABhBmt5JqEFomUwIb//+p4QADY+wf4W6TqcAAAAXQZrhSeEKUmUwIb/+p4QADX2oNvmPxekAAAARQZ8fRTRMK/8ACxWRDRV8WOEAAAAQAZ8gakK/AAtajRMiaVoLQAAAABhBmyJJqEFomUwIb//+p4QADY+wf4W6TqcAAAAXQZtFSeEKUmUwIb/+p4QADX2oNvmPxekAAAARQZ9jRTRMK/8ACxWRDRV8WOEAAAAQAZ+EakK/AAtajRMiaVoLQQAAABhBm4ZJqEFomUwIb//+p4QADY+wf4W6TqcAAAAXQZupSeEKUmUwIb/+p4QADX2oNvmPxekAAAARQZ/HRTRMK/8ACxWRDRV8WOAAAAAQAZ/oakK/AAtajRMiaVoLQAAAABhBm+pJqEFomUwIb//+p4QADY+wf4W6TqcAAAAXQZoNSeEKUmUwIb/+p4QADX2oNvmPxekAAAARQZ4rRTRMK/8ACxWRDRV8WOAAAAAQAZ5MakK/AAtajRMiaVoLQQAAABhBmk5JqEFomUwIb//+p4QADY+wf4W6TqcAAAAXQZpxSeEKUmUwIb/+p4QADX2oNvmPxekAAAARQZ6PRTRMK/8ACxWRDRV8WOAAAAAQAZ6wakK/AAtajRMiaVoLQAAAABhBmrJJqEFomUwIb//+p4QADY+wf4W6TqcAAAAXQZrVSeEKUmUwIb/+p4QADX2oNvmPxekAAAARQZ7zRTRMK/8ACxWRDRV8WOAAAAAQAZ8UakK/AAtajRMiaVoLQQAAABhBmxZJqEFomUwIb//+p4QADY+wf4W6TqcAAAAXQZs5SeEKUmUwIb/+p4QADX2oNvmPxekAAAARQZ9XRTRMK/8ACxWRDRV8WOEAAAAQAZ94akK/AAtajRMiaVoLQAAAABhBm3pJqEFomUwIb//+p4QADY+wf4W6TqcAAAAXQZudSeEKUmUwIb/+p4QADX2oNvmPxekAAAARQZ+7RTRMK/8ACxWRDRV8WOEAAAAQAZ/cakK/AAtajRMiaVoLQQAAABhBm95JqEFomUwIb//+p4QADY+wf4W6TqcAAAAXQZvhSeEKUmUwIb/+p4QADX2oNvmPxekAAAARQZ4fRTRMK/8ACxWRDRV8WOEAAAAQAZ4gakK/AAtajRMiaVoLQAAAABhBmiJJqEFomUwIb//+p4QADY+wf4W6TqcAAAAXQZpFSeEKUmUwIb/+p4QADX2oNvmPxekAAAARQZ5jRTRMK/8ACxWRDRV8WOEAAAAQAZ6EakK/AAtajRMiaVoLQQAAABhBmoZJqEFomUwIb//+p4QADY+wf4W6TqcAAAAXQZqpSeEKUmUwIb/+p4QADX2oNvmPxekAAAARQZ7HRTRMK/8ACxWRDRV8WOAAAAAQAZ7oakK/AAtajRMiaVoLQAAAABhBmupJqEFomUwIb//+p4QADY+wf4W6TqcAAAAXQZsNSeEKUmUwIb/+p4QADX2oNvmPxekAAAARQZ8rRTRMK/8ACxWRDRV8WOAAAAAQAZ9MakK/AAtajRMiaVoLQQAAABhBm05JqEFomUwIb//+p4QADY+wf4W6TqcAAAAXQZtxSeEKUmUwIb/+p4QADX2oNvmPxekAAAARQZ+PRTRMK/8ACxWRDRV8WOAAAAAQAZ+wakK/AAtajRMiaVoLQAAAABhBm7JJqEFomUwIb//+p4QADY+wf4W6TqcAAAAXQZvVSeEKUmUwIb/+p4QADX2oNvmPxekAAAARQZ/zRTRMK/8ACxWRDRV8WOAAAAAQAZ4UakK/AAtajRMiaVoLQQAAABhBmhZJqEFomUwIb//+p4QADY+wf4W6TqcAAAAXQZo5SeEKUmUwIb/+p4QADX2oNvmPxekAAAARQZ5XRTRMK/8ACxWRDRV8WOEAAAAQAZ54akK/AAtajRMiaVoLQAAAABhBmnpJqEFomUwIb//+p4QADY+wf4W6TqcAAAAXQZqdSeEKUmUwIb/+p4QADX2oNvmPxekAAAARQZ67RTRMK/8ACxWRDRV8WOEAAAAQAZ7cakK/AAtajRMiaVoLQQAAABhBmt5JqEFomUwIb//+p4QADY+wf4W6TqcAAAAXQZrhSeEKUmUwIb/+p4QADX2oNvmPxekAAAARQZ8fRTRMK/8ACxWRDRV8WOEAAAAQAZ8gakK/AAtajRMiaVoLQAAAABhBmyJJqEFomUwIb//+p4QADY+wf4W6TqcAAAAXQZtFSeEKUmUwIb/+p4QADX2oNvmPxekAAAARQZ9jRTRMK/8ACxWRDRV8WOEAAAAQAZ+EakK/AAtajRMiaVoLQQAAABhBm4ZJqEFomUwIb//+p4QADY+wf4W6TqcAAAAXQZupSeEKUmUwIb/+p4QADX2oNvmPxekAAAARQZ/HRTRMK/8ACxWRDRV8WOAAAAAQAZ/oakK/AAtajRMiaVoLQAAAABhBm+pJqEFomUwIb//+p4QADY+wf4W6TqcAAAAXQZoNSeEKUmUwIb/+p4QADX2oNvmPxekAAAARQZ4rRTRMK/8ACxWRDRV8WOAAAAAQAZ5MakK/AAtajRMiaVoLQQAAABhBmk5JqEFomUwIb//+p4QADY+wf4W6TqcAAAAXQZpxSeEKUmUwIb/+p4QADX2oNvmPxekAAAARQZ6PRTRMK/8ACxWRDRV8WOAAAAAQAZ6wakK/AAtajRMiaVoLQAAAABhBmrJJqEFomUwIb//+p4QADY+wf4W6TqcAAAAXQZrVSeEKUmUwIb/+p4QADX2oNvmPxekAAAARQZ7zRTRMK/8ACxWRDRV8WOAAAAAQAZ8UakK/AAtajRMiaVoLQQAAABhBmxZJqEFomUwIb//+p4QADY+wf4W6TqcAAAAXQZs5SeEKUmUwIb/+p4QADX2oNvmPxekAAAARQZ9XRTRMK/8ACxWRDRV8WOEAAAAQAZ94akK/AAtajRMiaVoLQAAAABhBm3pJqEFomUwIb//+p4QADY+wf4W6TqcAAAAXQZudSeEKUmUwIb/+p4QADX2oNvmPxekAAAARQZ+7RTRMK/8ACxWRDRV8WOEAAAAQAZ/cakK/AAtajRMiaVoLQQAAABhBm95JqEFomUwIb//+p4QADY+wf4W6TqcAAAAXQZvhSeEKUmUwIb/+p4QADX2oNvmPxekAAAARQZ4fRTRMK/8ACxWRDRV8WOEAAAAQAZ4gakK/AAtajRMiaVoLQAAAABhBmiJJqEFomUwIb//+p4QADY+wf4W6TqcAAAAXQZpFSeEKUmUwIb/+p4QADX2oNvmPxekAAAARQZ5jRTRMK/8ACxWRDRV8WOEAAAAQAZ6EakK/AAtajRMiaVoLQQAAABhBmoZJqEFomUwIb//+p4QADY+wf4W6TqcAAAAXQZqpSeEKUmUwIb/+p4QADX2oNvmPxekAAAARQZ7HRTRMK/8ACxWRDRV8WOAAAAAQAZ7oakK/AAtajRMiaVoLQAAAABhBmupJqEFomUwIb//+p4QADY+wf4W6TqcAAAAXQZsNSeEKUmUwIb/+p4QADX2oNvmPxekAAAARQZ8rRTRMK/8ACxWRDRV8WOAAAAAQAZ9MakK/AAtajRMiaVoLQQAAABhBm05JqEFomUwIb//+p4QADY+wf4W6TqcAAAAXQZtxSeEKUmUwIb/+p4QADX2oNvmPxekAAAARQZ+PRTRMK/8ACxWRDRV8WOAAAAAQAZ+wakK/AAtajRMiaVoLQAAAABhBm7JJqEFomUwIb//+p4QADY+wf4W6TqcAAAAXQZvVSeEKUmUwIb/+p4QADX2oNvmPxekAAAARQZ/zRTRMK/8ACxWRDRV8WOAAAAAQAZ4UakK/AAtajRMiaVoLQQAAABhBmhZJqEFomUwIb//+p4QADY+wf4W6TqcAAAAXQZo5SeEKUmUwIb/+p4QADX2oNvmPxekAAAARQZ5XRTRMK/8ACxWRDRV8WOEAAAAQAZ54akK/AAtajRMiaVoLQAAAABhBmnpJqEFomUwIb//+p4QADY+wf4W6TqcAAAAXQZqdSeEKUmUwIb/+p4QADX2oNvmPxekAAAARQZ67RTRMK/8ACxWRDRV8WOEAAAAQAZ7cakK/AAtajRMiaVoLQQAAABhBmt5JqEFomUwIb//+p4QADY+wf4W6TqcAAAAXQZrhSeEKUmUwIb/+p4QADX2oNvmPxekAAAARQZ8fRTRMK/8ACxWRDRV8WOEAAAAQAZ8gakK/AAtajRMiaVoLQAAAABhBmyJJqEFomUwIb//+p4QADY+wf4W6TqcAAAAXQZtFSeEKUmUwIb/+p4QADX2oNvmPxekAAAARQZ9jRTRMK/8ACxWRDRV8WOEAAAAQAZ+EakK/AAtajRMiaVoLQQAAABhBm4ZJqEFomUwIb//+p4QADY+wf4W6TqcAAAAXQZupSeEKUmUwIb/+p4QADX2oNvmPxekAAAARQZ/HRTRMK/8ACxWRDRV8WOAAAAAQAZ/oakK/AAtajRMiaVoLQAAAABhBm+pJqEFomUwIb//+p4QADY+wf4W6TqcAAAAXQZoNSeEKUmUwIb/+p4QADX2oNvmPxekAAAARQZ4rRTRMK/8ACxWRDRV8WOAAAAAQAZ5MakK/AAtajRMiaVoLQQAAABhBmk5JqEFomUwIb//+p4QADY+wf4W6TqcAAAAXQZpxSeEKUmUwIb/+p4QADX2oNvmPxekAAAARQZ6PRTRMK/8ACxWRDRV8WOAAAAAQAZ6wakK/AAtajRMiaVoLQAAAABhBmrJJqEFomUwIb//+p4QADY+wf4W6TqcAAAAXQZrVSeEKUmUwIb/+p4QADX2oNvmPxekAAAARQZ7zRTRMK/8ACxWRDRV8WOAAAAAQAZ8UakK/AAtajRMiaVoLQQAAABhBmxZJqEFomUwIb//+p4QADY+wf4W6TqcAAAAXQZs5SeEKUmUwIb/+p4QADX2oNvmPxekAAAARQZ9XRTRMK/8ACxWRDRV8WOEAAAAQAZ94akK/AAtajRMiaVoLQAAAABhBm3pJqEFomUwIb//+p4QADY+wf4W6TqcAAAAXQZudSeEKUmUwIb/+p4QADX2oNvmPxekAAAARQZ+7RTRMK/8ACxWRDRV8WOEAAAAQAZ/cakK/AAtajRMiaVoLQQAAABhBm95JqEFomUwIb//+p4QADY+wf4W6TqcAAAAXQZvhSeEKUmUwIZ/+nhAANLTVTnN9e3AAAAARQZ4fRTRMK/8ACxWRDRV8WOEAAAAQAZ4gakK/AAtajRMiaVoLQAAAABhBmiJJqEFomUwIb//+p4QADY+wf4W6TqcAAAAXQZpFSeEKUmUwIZ/+nhAANLTVTnN9e3AAAAARQZ5jRTRMK/8ACxWRDRV8WOEAAAAQAZ6EakK/AAtajRMiaVoLQQAAABhBmoZJqEFomUwIZ//+nhAANP6+/kgUr/kAAAAaQZqpS+EIQpSRGCCgH8gH9h4AhX/+OEAAEXEAAAAlQZ7HRTRMK/8Cr2PtQcTdqsNJJuWqhgcstbvNKiCaQND6lTQUYAAAADcBnuhqQr8Cr2PtQcTdqsNJJuWqhgcstbvNKiCjHltyvhK9G//xB+fSz//ECVis/+Y3YV2bWsPAAAAK8G1vb3YAAABsbXZoZAAAAAAAAAAAAAAAAAAAA+gAAB+QAAEAAAEAAAAAAAAAAAAAAAABAAAAAAAAAAAAAAAAAAAAAQAAAAAAAAAAAAAAAAAAQAAAAAAAAAAAAAAAAAAAAAAAAAAAAAAAAAAAAAAAAAIAAAoadHJhawAAAFx0a2hkAAAAAwAAAAAAAAAAAAAAAQAAAAAAAB+QAAAAAAAAAAAAAAAAAAAAAAABAAAAAAAAAAAAAAAAAAAAAQAAAAAAAAAAAAAAAAAAQAAAAAEQAAABEAAAAAAAJGVkdHMAAAAcZWxzdAAAAAAAAAABAAAfkAAABAAAAQAAAAAJkm1kaWEAAAAgbWRoZAAAAAAAAAAAAAAAAAAAMgAAAZQAVcQAAAAAAC1oZGxyAAAAAAAAAAB2aWRlAAAAAAAAAAAAAAAAVmlkZW9IYW5kbGVyAAAACT1taW5mAAAAFHZtaGQAAAABAAAAAAAAAAAAAAAkZGluZgAAABxkcmVmAAAAAAAAAAEAAAAMdXJsIAAAAAEAAAj9c3RibAAAAJVzdHNkAAAAAAAAAAEAAACFYXZjMQAAAAAAAAABAAAAAAAAAAAAAAAAAAAAAAEQARAASAAAAEgAAAAAAAAAAQAAAAAAAAAAAAAAAAAAAAAAAAAAAAAAAAAAAAAAAAAAABj//wAAAC9hdmNDAfQADf/hABdn9AANkZsoIhHQgAAAAwCAAAAZB4oUywEABWjr48RIAAAAGHN0dHMAAAAAAAAAAQAAAMoAAAIAAAAAFHN0c3MAAAAAAAAAAQAAAAEAAATIY3R0cwAAAAAAAACXAAAAAgAABAAAAAABAAAIAAAAAAIAAAIAAAAAAQAACgAAAAABAAAEAAAAAAEAAAAAAAAAAQAAAgAAAAACAAAEAAAAAAEAAAgAAAAAAgAAAgAAAAABAAAEAAAAAAEAAAgAAAAAAgAAAgAAAAABAAAEAAAAAAEAAAgAAAAAAgAAAgAAAAABAAAEAAAAAAEAAAgAAAAAAgAAAgAAAAABAAAEAAAAAAEAAAgAAAAAAgAAAgAAAAABAAAEAAAAAAEAAAgAAAAAAgAAAgAAAAABAAAEAAAAAAEAAAgAAAAAAgAAAgAAAAABAAAEAAAAAAEAAAgAAAAAAgAAAgAAAAABAAAEAAAAAAEAAAgAAAAAAgAAAgAAAAABAAAEAAAAAAEAAAgAAAAAAgAAAgAAAAABAAAEAAAAAAEAAAgAAAAAAgAAAgAAAAABAAAEAAAAAAEAAAgAAAAAAgAAAgAAAAABAAAEAAAAAAEAAAgAAAAAAgAAAgAAAAABAAAEAAAAAAEAAAgAAAAAAgAAAgAAAAABAAAEAAAAAAEAAAgAAAAAAgAAAgAAAAABAAAEAAAAAAEAAAgAAAAAAgAAAgAAAAABAAAEAAAAAAEAAAgAAAAAAgAAAgAAAAABAAAEAAAAAAEAAAgAAAAAAgAAAgAAAAABAAAEAAAAAAEAAAgAAAAAAgAAAgAAAAABAAAEAAAAAAEAAAgAAAAAAgAAAgAAAAABAAAEAAAAAAEAAAgAAAAAAgAAAgAAAAABAAAEAAAAAAEAAAgAAAAAAgAAAgAAAAABAAAEAAAAAAEAAAgAAAAAAgAAAgAAAAABAAAEAAAAAAEAAAgAAAAAAgAAAgAAAAABAAAEAAAAAAEAAAgAAAAAAgAAAgAAAAABAAAEAAAAAAEAAAgAAAAAAgAAAgAAAAABAAAEAAAAAAEAAAgAAAAAAgAAAgAAAAABAAAEAAAAAAEAAAgAAAAAAgAAAgAAAAABAAAEAAAAAAEAAAgAAAAAAgAAAgAAAAABAAAEAAAAAAEAAAgAAAAAAgAAAgAAAAABAAAEAAAAAAEAAAgAAAAAAgAAAgAAAAABAAAEAAAAAAEAAAgAAAAAAgAAAgAAAAABAAAEAAAAAAEAAAgAAAAAAgAAAgAAAAABAAAEAAAAAAEAAAgAAAAAAgAAAgAAAAABAAAEAAAAAAEAAAgAAAAAAgAAAgAAAAABAAAEAAAAAAEAAAgAAAAAAgAAAgAAAAABAAAEAAAAAAEAAAgAAAAAAgAAAgAAAAABAAAEAAAAAAEAAAgAAAAAAgAAAgAAAAABAAAEAAAAAAEAAAgAAAAAAgAAAgAAAAABAAAEAAAAAAEAAAgAAAAAAgAAAgAAAAABAAAEAAAAAAEAAAgAAAAAAgAAAgAAAAABAAAEAAAAAAEAAAgAAAAAAgAAAgAAAAABAAAEAAAAAAEAAAgAAAAAAgAAAgAAAAABAAAEAAAAAAEAAAgAAAAAAgAAAgAAAAABAAAEAAAAAAEAAAgAAAAAAgAAAgAAAAABAAAEAAAAAAEAAAgAAAAAAgAAAgAAAAABAAAEAAAAAAEAAAgAAAAAAgAAAgAAAAABAAAEAAAAAAEAAAgAAAAAAgAAAgAAAAAcc3RzYwAAAAAAAAABAAAAAQAAAMoAAAABAAADPHN0c3oAAAAAAAAAAAAAAMoAAAXGAAAAFwAAAC8AAAAXAAAAFAAAAB0AAAAXAAAAFAAAABQAAAAcAAAAGwAAABsAAAAWAAAAFAAAABwAAAAbAAAAFQAAABQAAAAcAAAAGwAAABUAAAAUAAAAHAAAABsAAAAVAAAAFAAAABwAAAAbAAAAFQAAABQAAAAcAAAAGwAAABUAAAAUAAAAHAAAABsAAAAVAAAAFAAAABwAAAAbAAAAFQAAABQAAAAcAAAAGwAAABUAAAAUAAAAHAAAABsAAAAVAAAAFAAAABwAAAAbAAAAFQAAABQAAAAcAAAAGwAAABUAAAAUAAAAHAAAABsAAAAVAAAAFAAAABwAAAAbAAAAFQAAABQAAAAcAAAAGwAAABUAAAAUAAAAHAAAABsAAAAVAAAAFAAAABwAAAAbAAAAFQAAABQAAAAcAAAAGwAAABUAAAAUAAAAHAAAABsAAAAVAAAAFAAAABwAAAAbAAAAFQAAABQAAAAcAAAAGwAAABUAAAAUAAAAHAAAABsAAAAVAAAAFAAAABwAAAAbAAAAFQAAABQAAAAcAAAAGwAAABUAAAAUAAAAHAAAABsAAAAVAAAAFAAAABwAAAAbAAAAFQAAABQAAAAcAAAAGwAAABUAAAAUAAAAHAAAABsAAAAVAAAAFAAAABwAAAAbAAAAFQAAABQAAAAcAAAAGwAAABUAAAAUAAAAHAAAABsAAAAVAAAAFAAAABwAAAAbAAAAFQAAABQAAAAcAAAAGwAAABUAAAAUAAAAHAAAABsAAAAVAAAAFAAAABwAAAAbAAAAFQAAABQAAAAcAAAAGwAAABUAAAAUAAAAHAAAABsAAAAVAAAAFAAAABwAAAAbAAAAFQAAABQAAAAcAAAAGwAAABUAAAAUAAAAHAAAABsAAAAVAAAAFAAAABwAAAAbAAAAFQAAABQAAAAcAAAAGwAAABUAAAAUAAAAHAAAABsAAAAVAAAAFAAAABwAAAAbAAAAFQAAABQAAAAcAAAAGwAAABUAAAAUAAAAHAAAABsAAAAVAAAAFAAAABwAAAAbAAAAFQAAABQAAAAcAAAAHgAAACkAAAA7AAAAFHN0Y28AAAAAAAAAAQAAADAAAABidWR0YQAAAFptZXRhAAAAAAAAACFoZGxyAAAAAAAAAABtZGlyYXBwbAAAAAAAAAAAAAAAAC1pbHN0AAAAJal0b28AAAAdZGF0YQAAAAEAAAAATGF2ZjU4LjEyLjEwMA==\" type=\"video/mp4\" />\n",
       "             </video>"
      ],
      "text/plain": [
       "<IPython.core.display.HTML object>"
      ]
     },
     "execution_count": 43,
     "metadata": {},
     "output_type": "execute_result"
    }
   ],
   "source": [
    "HTML(display_videos('cnn_test10.mp4'))"
   ]
  },
  {
   "cell_type": "code",
   "execution_count": 45,
   "metadata": {},
   "outputs": [
    {
     "data": {
      "text/html": [
       "<video alt=\"test\" controls>\n",
       "                <source src=\"data:video/mp4;base64,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\" type=\"video/mp4\" />\n",
       "             </video>"
      ],
      "text/plain": [
       "<IPython.core.display.HTML object>"
      ]
     },
     "execution_count": 45,
     "metadata": {},
     "output_type": "execute_result"
    }
   ],
   "source": [
    "HTML(display_videos('fc_test10.mp4'))"
   ]
  },
  {
   "cell_type": "markdown",
   "metadata": {},
   "source": [
    "It was noticed that the CNN outperforms the FC. Another thing noticed is that both algorithms get stuck in an area in the map (a local optima) which is due to a lack of exploration. \n",
    "\n",
    "By increasing the temperature, we immediately notice a higher average reward but the local optima problem remains present. "
   ]
  },
  {
   "cell_type": "markdown",
   "metadata": {},
   "source": [
    "***\n",
    "\n",
    "The algorithm tends to not explore the map which can be an issue. We propose two ideas in order to encourage exploration:\n",
    "1. Incorporating a decreasing $\\epsilon$-greedy exploration. You can use the method ```set_epsilon```\n",
    "2. Append via the environment a new state that describes if a cell has been visited or not\n",
    "\n",
    "***\n",
    "__Question 10__ Design a new ```train_explore``` function and environment class ```EnvironmentExploring``` to tackle the issue of exploration.\n",
    "\n"
   ]
  },
  {
   "cell_type": "code",
   "execution_count": 46,
   "metadata": {},
   "outputs": [],
   "source": [
    "def train_explore(agent,env,epoch,decay_parameter_epsilon=0.3,prefix=''):\n",
    "    score = 0\n",
    "    loss = 0\n",
    "    \n",
    "    for e in range(epoch):\n",
    "        # At each epoch, we restart to a fresh game and get the initial state\n",
    "        state = env.reset()\n",
    "        # This assumes that the games will terminate\n",
    "        game_over = False\n",
    "\n",
    "        win = 0\n",
    "        lose = 0\n",
    "        agent.set_epsilon(agent.epsilon*(1-decay_parameter_epsilon))\n",
    "        while not game_over:\n",
    "            # The agent performs an action\n",
    "            action = agent.act(state)\n",
    "\n",
    "            # Apply an action to the environment, get the next state, the reward\n",
    "            # and if the games end\n",
    "            prev_state = state\n",
    "            state, reward, game_over = env.act(action, train=True)\n",
    "\n",
    "            # Update the counters\n",
    "            if reward > 0:\n",
    "                win = win + reward\n",
    "            if reward < 0:\n",
    "                lose = lose -reward\n",
    "\n",
    "            # Apply the reinforcement strategy\n",
    "            loss = agent.reinforce(prev_state, state,  action, reward, game_over)\n",
    "\n",
    "        # Save as a mp4\n",
    "        if e % 10 == 0:\n",
    "            env.draw(prefix+str(e))\n",
    "\n",
    "        # Update stats\n",
    "        score += win-lose\n",
    "\n",
    "        print(\"Epoch {:03d}/{:03d} | Loss {:.4f} | Win/lose count {}/{} ({})\"\n",
    "              .format(e, epoch, loss, win, lose, win-lose))\n",
    "        agent.save(name_weights=prefix+'model.h5',name_model=prefix+'model.json')\n",
    "\n",
    "class EnvironmentExploring(object):\n",
    "    def __init__(self, grid_size=10, max_time=500, temperature=0.1):\n",
    "        grid_size = grid_size+4\n",
    "        self.grid_size = grid_size\n",
    "        self.max_time = max_time\n",
    "        self.temperature = temperature\n",
    "\n",
    "        #board on which one plays\n",
    "        self.board = np.zeros((grid_size,grid_size))\n",
    "        self.position = np.zeros((grid_size,grid_size))\n",
    "        self.malus_position = np.zeros((grid_size,grid_size)) #define maluses when going to a previously visited position\n",
    "        # coordinate of the cat\n",
    "        self.x = 0\n",
    "        self.y = 1\n",
    "\n",
    "        # self time\n",
    "        self.t = 0\n",
    "\n",
    "        self.scale=16\n",
    "\n",
    "        self.to_draw = np.zeros((max_time+2, grid_size*self.scale, grid_size*self.scale, 3))\n",
    "        \n",
    "    def draw(self,e):\n",
    "        skvideo.io.vwrite(str(e) + '.mp4', self.to_draw)\n",
    "\n",
    "    def get_frame(self,t):\n",
    "        b = np.zeros((self.grid_size,self.grid_size,3))+128\n",
    "        b[self.board>0,0] = 256\n",
    "        b[self.board < 0, 2] = 256\n",
    "        b[self.x,self.y,:]=256\n",
    "        b[-2:,:,:]=0\n",
    "        b[:,-2:,:]=0\n",
    "        b[:2,:,:]=0\n",
    "        b[:,:2,:]=0\n",
    "        \n",
    "        b =  cv2.resize(b, None, fx=self.scale, fy=self.scale, interpolation=cv2.INTER_NEAREST)\n",
    "\n",
    "        self.to_draw[t,:,:,:]=b\n",
    "    \n",
    "    def act(self, action,train=False):\n",
    "        #During the training phase going back to a position where the rat have already been before tends to decrease the \n",
    "        #total reward hence there is this train parameter that we have added (it tries to enforce the exploration)\n",
    "\n",
    "        self.get_frame(int(self.t))\n",
    "\n",
    "        self.position = np.zeros((self.grid_size, self.grid_size))\n",
    "\n",
    "        self.position[0:2,:]= -1\n",
    "        self.position[:,0:2] = -1\n",
    "        self.position[-2:, :] = -1\n",
    "        self.position[:, -2:] = -1\n",
    "\n",
    "        self.position[self.x, self.y] = 1\n",
    "        if action == 0:\n",
    "            if self.x == self.grid_size-3:\n",
    "                self.x = self.x-1\n",
    "            else:\n",
    "                self.x = self.x + 1\n",
    "        elif action == 1:\n",
    "            if self.x == 2:\n",
    "                self.x = self.x+1\n",
    "            else:\n",
    "                self.x = self.x-1\n",
    "        elif action == 2:\n",
    "            if self.y == self.grid_size - 3:\n",
    "                self.y = self.y - 1\n",
    "            else:\n",
    "                self.y = self.y + 1\n",
    "        elif action == 3:\n",
    "            if self.y == 2:\n",
    "                self.y = self.y + 1\n",
    "            else:\n",
    "                self.y = self.y - 1\n",
    "        else:\n",
    "            RuntimeError('Error: action not recognized')\n",
    "            \n",
    "        self.t = self.t + 1     \n",
    "        \n",
    "        ## In Environment exploring:\n",
    "        # You will have to change n_state to 3 because you will use one more layer!\n",
    "        reward = 0\n",
    "        if train:\n",
    "            reward = -self.malus_position[self.x, self.y]\n",
    "        self.malus_position[self.x, self.y] = 0.1\n",
    "\n",
    "        reward = reward + self.board[self.x, self.y]\n",
    "        self.board[self.x, self.y] = 0\n",
    "        game_over = self.t > self.max_time\n",
    "        # 3 \"feature\" states instead of 2\n",
    "        state = np.concatenate((self.malus_position.reshape(self.grid_size, self.grid_size,1),\n",
    "                                        self.board.reshape(self.grid_size, self.grid_size,1),\n",
    "                                self.position.reshape(self.grid_size, self.grid_size,1)),axis=2)\n",
    "        state = state[self.x-2:self.x+3,self.y-2:self.y+3,:]\n",
    "\n",
    "        return state, reward, game_over\n",
    "    def reset(self):\n",
    "\n",
    "        self.x = np.random.randint(3, self.grid_size-3, size=1)[0]\n",
    "        self.y = np.random.randint(3, self.grid_size-3, size=1)[0]\n",
    "\n",
    "\n",
    "        bonus = 0.5*np.random.binomial(1,self.temperature,size=self.grid_size**2)\n",
    "        bonus = bonus.reshape(self.grid_size,self.grid_size)\n",
    "\n",
    "        malus = -1.0*np.random.binomial(1,self.temperature,size=self.grid_size**2)\n",
    "        malus = malus.reshape(self.grid_size, self.grid_size)\n",
    "\n",
    "        self.to_draw = np.zeros((self.max_time+2, self.grid_size*self.scale, self.grid_size*self.scale, 3))\n",
    "\n",
    "\n",
    "        malus[bonus>0]=0\n",
    "\n",
    "        self.board = bonus + malus\n",
    "\n",
    "        self.position = np.zeros((self.grid_size, self.grid_size))\n",
    "        self.position[0:2,:]= -1\n",
    "        self.position[:,0:2] = -1\n",
    "        self.position[-2:, :] = -1\n",
    "        self.position[:,-2:] = -1\n",
    "        self.board[self.x,self.y] = 0\n",
    "        self.t = 0\n",
    "\n",
    "        self.malus_position = np.zeros((self.grid_size, self.grid_size))\n",
    "        #At the begining the malus_position array must be setted to zero\n",
    "        state = np.concatenate((self.malus_position.reshape(self.grid_size, self.grid_size,1),\n",
    "                                        self.board.reshape(self.grid_size, self.grid_size,1),\n",
    "                                self.position.reshape(self.grid_size, self.grid_size,1)),axis=2)\n",
    "\n",
    "        state = state[self.x - 2:self.x + 3, self.y - 2:self.y + 3, :]\n",
    "        return state"
   ]
  },
  {
   "cell_type": "code",
   "execution_count": 51,
   "metadata": {},
   "outputs": [
    {
     "name": "stdout",
     "output_type": "stream",
     "text": [
      "Epoch 000/050 | Loss 0.0023 | Win/lose count 2.0/19.1 (-17.1)\n",
      "Epoch 001/050 | Loss 0.0021 | Win/lose count 2.5/19.900000000000016 (-17.400000000000016)\n",
      "Epoch 002/050 | Loss 0.0019 | Win/lose count 1.5/20.30000000000002 (-18.80000000000002)\n",
      "Epoch 003/050 | Loss 0.0022 | Win/lose count 2.5/16.79999999999997 (-14.299999999999969)\n",
      "Epoch 004/050 | Loss 0.0054 | Win/lose count 2.0/15.79999999999996 (-13.79999999999996)\n",
      "Epoch 005/050 | Loss 0.0039 | Win/lose count 2.0/19.50000000000001 (-17.50000000000001)\n",
      "Epoch 006/050 | Loss 0.0058 | Win/lose count 2.5/18.299999999999983 (-15.799999999999983)\n",
      "Epoch 007/050 | Loss 0.0024 | Win/lose count 4.5/19.400000000000016 (-14.900000000000016)\n",
      "Epoch 008/050 | Loss 0.0060 | Win/lose count 4.5/16.999999999999975 (-12.499999999999975)\n",
      "Epoch 009/050 | Loss 0.0040 | Win/lose count 1.5/18.799999999999997 (-17.299999999999997)\n",
      "Epoch 010/050 | Loss 0.0115 | Win/lose count 3.0/16.39999999999997 (-13.39999999999997)\n",
      "Epoch 011/050 | Loss 0.0059 | Win/lose count 1.0/18.499999999999993 (-17.499999999999993)\n",
      "Epoch 012/050 | Loss 0.0041 | Win/lose count 1.5/17.199999999999974 (-15.699999999999974)\n",
      "Epoch 013/050 | Loss 0.0021 | Win/lose count 2.5/19.100000000000005 (-16.600000000000005)\n",
      "Epoch 014/050 | Loss 0.0054 | Win/lose count 7.0/16.29999999999997 (-9.299999999999969)\n",
      "Epoch 015/050 | Loss 0.0019 | Win/lose count 2.0/18.29999999999999 (-16.29999999999999)\n",
      "Epoch 016/050 | Loss 0.0037 | Win/lose count 0.5/17.799999999999986 (-17.299999999999986)\n",
      "Epoch 017/050 | Loss 0.0036 | Win/lose count 1.5/16.299999999999965 (-14.799999999999965)\n",
      "Epoch 018/050 | Loss 0.0114 | Win/lose count 2.5/14.999999999999963 (-12.499999999999963)\n",
      "Epoch 019/050 | Loss 0.0019 | Win/lose count 1.0/19.40000000000001 (-18.40000000000001)\n",
      "Epoch 020/050 | Loss 0.0018 | Win/lose count 2.0/18.9 (-16.9)\n",
      "Epoch 021/050 | Loss 0.0052 | Win/lose count 0.5/18.39999999999999 (-17.89999999999999)\n",
      "Epoch 022/050 | Loss 0.0093 | Win/lose count 0.5/17.59999999999998 (-17.09999999999998)\n",
      "Epoch 023/050 | Loss 0.0056 | Win/lose count 0/19.70000000000001 (-19.70000000000001)\n",
      "Epoch 024/050 | Loss 0.0123 | Win/lose count 5.0/14.999999999999966 (-9.999999999999966)\n",
      "Epoch 025/050 | Loss 0.0019 | Win/lose count 3.5/16.699999999999967 (-13.199999999999967)\n",
      "Epoch 026/050 | Loss 0.0108 | Win/lose count 1.5/19.200000000000006 (-17.700000000000006)\n",
      "Epoch 027/050 | Loss 0.0017 | Win/lose count 0.5/18.799999999999997 (-18.299999999999997)\n",
      "Epoch 028/050 | Loss 0.0050 | Win/lose count 3.0/17.49999999999998 (-14.499999999999979)\n",
      "Epoch 029/050 | Loss 0.0198 | Win/lose count 2.0/17.69999999999998 (-15.699999999999982)\n",
      "Epoch 030/050 | Loss 0.0090 | Win/lose count 0.5/19.600000000000012 (-19.100000000000012)\n",
      "Epoch 031/050 | Loss 0.0017 | Win/lose count 1.0/17.799999999999983 (-16.799999999999983)\n",
      "Epoch 032/050 | Loss 0.0079 | Win/lose count 1.5/20.400000000000027 (-18.900000000000027)\n",
      "Epoch 033/050 | Loss 0.0060 | Win/lose count 0.5/18.29999999999999 (-17.79999999999999)\n",
      "Epoch 034/050 | Loss 0.0015 | Win/lose count 3.0/16.89999999999997 (-13.89999999999997)\n",
      "Epoch 035/050 | Loss 0.0091 | Win/lose count 2.5/18.099999999999987 (-15.599999999999987)\n",
      "Epoch 036/050 | Loss 0.0070 | Win/lose count 2.0/16.699999999999967 (-14.699999999999967)\n",
      "Epoch 037/050 | Loss 0.0019 | Win/lose count 0/19.500000000000007 (-19.500000000000007)\n",
      "Epoch 038/050 | Loss 0.0029 | Win/lose count 5.0/19.699999999999978 (-14.699999999999978)\n",
      "Epoch 039/050 | Loss 0.0049 | Win/lose count 4.0/17.199999999999974 (-13.199999999999974)\n",
      "Epoch 040/050 | Loss 0.0047 | Win/lose count 0.5/17.799999999999983 (-17.299999999999983)\n",
      "Epoch 041/050 | Loss 0.0064 | Win/lose count 0.5/19.60000000000001 (-19.10000000000001)\n",
      "Epoch 042/050 | Loss 0.0037 | Win/lose count 2.0/18.299999999999994 (-16.299999999999994)\n",
      "Epoch 043/050 | Loss 0.0016 | Win/lose count 2.0/19.600000000000012 (-17.600000000000012)\n",
      "Epoch 044/050 | Loss 0.0165 | Win/lose count 2.0/18.099999999999987 (-16.099999999999987)\n",
      "Epoch 045/050 | Loss 0.0085 | Win/lose count 5.0/16.89999999999997 (-11.89999999999997)\n",
      "Epoch 046/050 | Loss 0.0040 | Win/lose count 1.5/18.19999999999999 (-16.69999999999999)\n",
      "Epoch 047/050 | Loss 0.0035 | Win/lose count 0.5/20.700000000000028 (-20.200000000000028)\n",
      "Epoch 048/050 | Loss 0.0015 | Win/lose count 2.5/17.999999999999986 (-15.499999999999986)\n",
      "Epoch 049/050 | Loss 0.0060 | Win/lose count 2.0/18.799999999999997 (-16.799999999999997)\n"
     ]
    },
    {
     "data": {
      "text/html": [
       "<video alt=\"test\" controls>\n",
       "                <source src=\"data:video/mp4;base64,AAAAIGZ0eXBpc29tAAACAGlzb21pc28yYXZjMW1wNDEAAAAIZnJlZQAAF+ttZGF0AAACrQYF//+p3EXpvebZSLeWLNgg2SPu73gyNjQgLSBjb3JlIDE1NSByMjkwMSA3ZDBmZjIyIC0gSC4yNjQvTVBFRy00IEFWQyBjb2RlYyAtIENvcHlsZWZ0IDIwMDMtMjAxOCAtIGh0dHA6Ly93d3cudmlkZW9sYW4ub3JnL3gyNjQuaHRtbCAtIG9wdGlvbnM6IGNhYmFjPTEgcmVmPTMgZGVibG9jaz0xOjA6MCBhbmFseXNlPTB4MToweDExMSBtZT1oZXggc3VibWU9NyBwc3k9MSBwc3lfcmQ9MS4wMDowLjAwIG1peGVkX3JlZj0xIG1lX3JhbmdlPTE2IGNocm9tYV9tZT0xIHRyZWxsaXM9MSA4eDhkY3Q9MCBjcW09MCBkZWFkem9uZT0yMSwxMSBmYXN0X3Bza2lwPTEgY2hyb21hX3FwX29mZnNldD00IHRocmVhZHM9OCBsb29rYWhlYWRfdGhyZWFkcz0xIHNsaWNlZF90aHJlYWRzPTAgbnI9MCBkZWNpbWF0ZT0xIGludGVybGFjZWQ9MCBibHVyYXlfY29tcGF0PTAgY29uc3RyYWluZWRfaW50cmE9MCBiZnJhbWVzPTMgYl9weXJhbWlkPTIgYl9hZGFwdD0xIGJfYmlhcz0wIGRpcmVjdD0xIHdlaWdodGI9MSBvcGVuX2dvcD0wIHdlaWdodHA9MiBrZXlpbnQ9MjUwIGtleWludF9taW49MjUgc2NlbmVjdXQ9NDAgaW50cmFfcmVmcmVzaD0wIHJjX2xvb2thaGVhZD00MCByYz1jcmYgbWJ0cmVlPTEgY3JmPTIzLjAgcWNvbXA9MC42MCBxcG1pbj0wIHFwbWF4PTY5IHFwc3RlcD00IGlwX3JhdGlvPTEuNDAgYXE9MToxLjAwAIAAAAGyZYiEADv//vb8/AptUwn/LZ/+iL/lb+9P2a61uFE7M7QacwPQC/3cd/Xi1bCrc27LcdG8bJkAU3Roif7wCeTfHLadSBzOdaItBPwKXAU/8CmkyLwCFnE/xKXKRzrhh4ti8YxS6xiy4N3BqAeqImKijDFleUUUEIa1SrC2tmLwCZXKm1efbkmyLVCstIGQuKGNGcaMc2uWZ1mstuDDl4PT7LYEV9RTxGxq20HYkQpfGYPDUSswYrIdOaAQ3cB+cSiRhuo4neY6cjWuvG+sgjTsS/dzYihAr+384ZS+SChoVRRbdbB2tYGKq8DhSJ2GxU+eunVYWz0/HCX4OdCIk17NRYd0oloAT4jwKrpScM7I7ZXy4GVoM5+VyPM5EBygwVPf1bZx15ifTBxoZ0Og/1DQAg98r6YeEP8d2ty9u8kzYnEnMlpHNomhtuC9rXnrGS9jgqmXF7NcvIHmVbpfpHFKPVMUeJYQU5CAsbi7dblzRIhBwoDHwtp1gRq86VS8W+uh5AgmDeAp067labza5BsFilMVZ14aFETJ1ppCUqBPjrBA/GGwH6bASLGiPV2NK/AAB+UAAAARQZokbEN//qeEAA2PsH+YEoAAAAASQZ5CeIX/AAgUMHSmzyPosrUHAAAADwGeYXRCvwALWnKFJtkrpwAAABABnmNqQr8AC12EeTA9fEOBAAAAEkGaaEmoQWiZTAhv//6nhAABJwAAABNBnoZFESwv/wANL649vbhwS56FAAAAEAGepXRCvwAR3zVA6dqHhIEAAAAPAZ6nakK/ABHZW6UaQ8amAAAAGUGaqUmoQWyZTAhv//6nhAAN37B69mfBFvcAAAAZQZrKSeEKUmUwId/+qZYABtPaX87pCmEqcQAAABxBmu5J4Q6JlMCG//6nhAAIt8dPd5uvvrZihIAZAAAAEEGfDEURPC//AAVBjbkXV+AAAAAQAZ8rdEK/AAcThgMkt/szQQAAAA8Bny1qQr8ABJXmiakqjoEAAAAZQZsxSahBaJlMCG///qeEAAWrFaQQif5ccwAAABJBn09FESwr/wAEl2K9hYL9coAAAAAPAZ9wakK/AASXZ5bhs2trAAAAHUGbc0moQWyZTBRMM//+nhAAIqIcq3Bedr6++4qRAAAAEAGfkmpCvwAHQZ4Q8aGtCoAAAAAYQZuUSeEKUmUwIZ/+nhAANfIY5/DnN9etAAAAGUGbtUnhDomUwIb//qeEABWPRP9VvmPxTcEAAAAZQZvWSeEPJlMCG//+p4QAIKgCzbbPs+bWwAAAABlBm/lJ4Q8mUwIb//6nhAAzdIn+q3zH4j/BAAAAEkGeF0URPCv/ACoWRC7DfS89uQAAAA8BnjhqQr8AKhZEJwQOUCAAAAAaQZo6SahBaJlMCG///qeEAE99E/1W+Y/EVMEAAAAaQZpeSeEKUmUwIb/+p4QAT/3U/cJbGj+YRTAAAAAUQZ58RTRML/8AL8I46FG+Kld0McEAAAAQAZ6bdEK/AEF3HeVsoelqgQAAABABnp1qQr8ALFSjeaYq2m7gAAAAHUGagEmoQWiZTBTwz/6eEADXr7muOfw7CebXeL4aAAAAEAGev2pCvwAtdjy3DZtT2oEAAAAZQZqhSeEKUmUwIb/+p4QAVj0T/VcBj8RNwAAAAB1BmsNJ4Q6JlMFNEw3//qeEAFa91Pu8un9guAghMQAAAA8BnuJqQr8ARWTKZtmRroIAAAAYQZrkSeEPJlMCG//+p4QAUj3U4/w+rbczAAAAHUGbBknhDyZTBRE8N//+p4QAdoHia41RL9E/yHwpAAAAEAGfJWpCvwBiHbhNxn16cDkAAAARQZsqSeEPJlMCGf/+nhAABH0AAAATQZ9IRRE8L/8AcTdumcV1PYmStAAAABABn2d0Qr8AmvmqB07UNWOAAAAADwGfaWpCvwCayt0o0h4l9wAAABlBm2tJqEFomUwIZ//+nhAC08GOfw5zfWWzAAAAG0GbjEnhClJlMCG//qeEARxAFm22gMBzfulvQAAAABhBm61J4Q6JlMCG//6nhAIFAFm1ymoSsoEAAAAdQZvRSeEPJlMCG//+p4QCC+RwNz80YWlbosCqCYMAAAAVQZ/vRRE8L/8Box86ZxXEVjxaiu1NAAAAEAGeDnRCvwIzJlBPizE+F3AAAAAQAZ4QakK/AjJHbnWeODJowAAAABlBmhNJqEFomUwU8N/+p4QG6g51N3U9+JvRAAAADwGeMmpCvwIy7TJw2bTZIwAAABhBmjRJ4QpSZTAhv/6nhAesZjyQY/J9oz4AAAAeQZpYSeEOiZTAhn/+nhAcfOb7O7oULgU2lu1qTFbBAAAAFUGedkURPC//AdW7fRYtp8OMLU1UwAAAAA8BnpV0Qr8CdoSY3qB7Yj8AAAAQAZ6XakK/ApE0bzS61k1swQAAABlBmplJqEFomUwIZ//+nhAJJ3TfOGY+rlOmAAAAHEGau0nhClJlMFESwz/+nhAEt+If4efkWwTr70EAAAAQAZ7aakK/APgEAnXgCfzNgAAAABhBmtxJ4Q6JlMCGf/6eEAHy9ffyJEfWEbMAAAAYQZr9SeEPJlMCGf/+nhABSPdN9FSs18CnAAAAGEGbHknhDyZTAhn//p4QANP6+/kSI+sJ/gAAABhBmz9J4Q8mUwIZ//6eEACHfEP7ZDH1hZUAAAAZQZtASeEPJlMCG//+p4QAFs91P1HGhIdJwQAAAB1Bm2JJ4Q8mUwURPDP//p4QADjevv6bKFy62at/MAAAAA8Bn4FqQr8AC/EtKkUCVy8AAAAYQZuDSeEPJlMCG//+p4QACTfHTH+H1bgVAAAAGEGbpEnhDyZTAhv//qeEAAj3x0x/h9W4HwAAABFBm8hJ4Q8mUwIZ//6eEAAEfQAAABNBn+ZFETwv/wAFQyWzUzLLkNTtAAAAEAGeBXRCvwAHE4YDJLf7M0EAAAAQAZ4HakK/AAcVnhDxoa0PgAAAABlBmglJqEFomUwIZ//+nhAANLIY5/DnN9e3AAAAGEGaKknhClJlMCGf/p4QAFG4Mc/hzm+uXQAAABhBmktJ4Q6JlMCGf/6eEAB8CnHP4c5vrbcAAAAYQZpsSeEPJlMCGf/+nhAAw8hjn8Oc31qVAAAAGUGajUnhDyZTAhv//qeEAE1QBZttn2fNScEAAAAZQZquSeEPJlMCG//+p4QAdo4z/Vb5j8Q3oQAAAB1BmtBJ4Q8mUwURPDf//qeEAL3itUx/q3b7B+t/HQAAAA8Bnu9qQr8AmuxHkwPXtwcAAAAYQZrzSeEPJlMCGf/+nhAC6fE7Ot0DJDQMAAAAEUGfEUURPCv/AJ9SjeaFg+3NAAAADgGfMmpCvwCfNjGTckuaAAAAGUGbNEmoQWiZTAhn//6eEALX7psZcmyrbNwAAAAYQZtVSeEKUmUwIb/+p4QAtfupx/h9W20TAAAAHUGbd0nhDomUwU0TDP/+nhACs+6b2//NU4blAMLAAAAADwGflmpCvwCOyZTNsyNabwAAABhBm5hJ4Q8mUwIb//6nhACoe6nH+H1bbSsAAAAYQZu5SeEPJlMCG//+p4QAo/upx/h9W20zAAAAGkGb3UnhDyZTAhn//p4QA8abRz+bX199touBAAAAFEGf+0URPC//AJbn7Na+DcWW1oHgAAAAEAGeGnRCvwB++LM8r8lNnKkAAAAQAZ4cakK/AM27Ucr+3D6LwQAAABpBmh5JqEFomUwIb//+p4QBneif6obMfgKHgAAAAB1BmiBJ4QpSZTBREsM//p4QEkU5VuC7Mr199dypgAAAAA8Bnl9qQr8B+bEeTA1+y0kAAAAYQZpBSeEOiZTAhn/+nhAUG9xoaB/bcw3oAAAAGEGaYknhDyZTAhv//qeEBib3+emF9ETDFwAAABhBmoNJ4Q8mUwIb//6nhAbj5jyQY/K7o2YAAAAZQZqkSeEPJlMCHf/+qZYD8SyuNOf7zpDpgQAAAB1BmshJ4Q8mUwId//6plgQXkl94dnHmWWfPtrWEHQAAABVBnuZFETwv/wHVu30WLafDjC1NVMEAAAAPAZ8FdEK/AnaEmN6ge2I/AAAAEAGfB2pCvwKRNG80utZNbMAAAAATQZsMSahBaJlMCHf//qmWAACVgAAAABNBnypFESwv/wEe9BFKR0zliz5vAAAAEAGfSXRCvwGJAUzyvyU2UHAAAAAQAZ9LakK/AZMFjXvNKzZSQAAAABNBm1BJqEFsmUwId//+qZYAAJWBAAAAE0GfbkUVLC//AgDedM4rWOzk2LkAAAAPAZ+NdEK/Aq/R2QbJdePvAAAAEAGfj2pCvwKuT5zrM/BOuIAAAAATQZuUSahBbJlMCHf//qmWAACVgAAAABNBn7JFFSwv/wEe9BFKR0zliz5vAAAAEAGf0XRCvwGJAUzyvyU2UHAAAAAQAZ/TakK/AZMFjXvNKzZSQAAAAB5Bm9hJqEFsmUwIb//+p4QM61qmP9Nu3jp1GlhwjUkAAAAVQZ/2RRUsL/8CAeEd/PosWoPCwBXdAAAAEAGeFXRCvwJ2iTyNizE0FTEAAAAPAZ4XakK/Aq9iPJcz1DGzAAAAGUGaGkmoQWyZTBRMN//+p4QM+0C3M40TNmAAAAAPAZ45akK/Aq5WXIaQ70NbAAAAGEGaPknhClJlMCG//qeEDPtAt28dO9Ik4AAAABJBnlxFNEwv/wIB4R+3I5iFkfEAAAAQAZ57dEK/AnaJPI2LMTQVMQAAAA8Bnn1qQr8Cr2I8lzPUMbMAAAAYQZp/SahBaJlMCHf//qmWBtk5qSQpvyl5AAAAGkGagknhClJlMCG//qeEApPZWBCevZnwBbFTAAAAEkGeoEU0TCv/AZMj0QCmAcfDwAAAAA4BnsFqQr8Bk7Eq6nTZSQAAABtBmsZJqEFomUwIb//+p4QM/uSzap+9E/JKekAAAAAVQZ7kRREsL/8CAeEd/PosWoPKMp3RAAAAEAGfA3RCvwJ2iTyNizE0FTEAAAAPAZ8FakK/Aq9iPJcz1DGzAAAAGEGbB0moQWyZTAh3//6plgbZOakkKb8peQAAABtBmypJ4QpSZTAh3/6plgFM7agH94WoJ+dCQsAAAAASQZ9IRTRMK/8BkyPRAKYBx8PAAAAADgGfaWpCvwGTsSrqdNlJAAAAG0GbbkmoQWiZTAhv//6nhAz+5LNqn70T8kp6QAAAABVBn4xFESwv/wIB4R38+ixag8oyndAAAAAQAZ+rdEK/AnaJPI2LMTQVMQAAAA8Bn61qQr8Cr2I8lzPUMbMAAAAZQZuwSahBbJlMFEw3//6nhAz7QLczjRM2YQAAAA8Bn89qQr8CrlZchpDvQ1oAAAAYQZvUSeEKUmUwIb/+p4QM+0C3bx070iTgAAAAEkGf8kU0TC//AgHhH7cjmIWR8QAAABABnhF0Qr8Cdok8jYsxNBUwAAAADwGeE2pCvwKvYjyXM9QxswAAABhBmhZJqEFomUwU8M/+nhAtNCoknvD09IEAAAAPAZ41akK/Aq5WXIaQ70NaAAAAGEGaN0nhClJlMCGf/p4QCSd02MuTZBWLuQAAABhBmlhJ4Q6JlMCGf/6eEAiniHnW6Bf9igkAAAAeQZp6SeEPJlMFETwz//6eEAgviH91HQB7riPrGMm4AAAADwGemWpCvwF1bbpRpDxJqwAAABhBmptJ4Q8mUwIZ//6eEARX4h51ugZIZXwAAAAYQZq8SeEPJlMCGf/+nhAEN+IedboGSGWdAAAAGEGa3UnhDyZTAhn//p4QBBfiHnW6BkhlxQAAABhBmv5J4Q8mUwIb//6nhAEF+OmP8Pq22XkAAAAdQZsASeEPJlMFETw3//6nhAD9+wf5ynXhRrcx1xwAAAAQAZ8/akK/ANKR251oYXiUwQAAABlBmyFJ4Q8mUwIb//6nhACj+6n6jjQkOFJAAAAAEUGbRUnhDyZTAhn//p4QAAR9AAAAEkGfY0URPC//AF+hUd0cV/I0EAAAABABn4J0Qr8AfyMyI7FmKNypAAAAEAGfhGpCvwB/AiZpvpIOL0kAAAAaQZuGSahBaJlMCG///qeEAKL6J/qt8x+IUkEAAAAZQZunSeEKUmUwIb/+p4QA9xxn+q3zH4g1IQAAABFBm8tJ4Q6JlMCGf/6eEAAEfAAAABNBn+lFETwv/wDs7t0ziup7Ex5kAAAAEAGeCHRCvwFIy1QOnahp2YEAAAAPAZ4KakK/AUhtulGkPEnhAAAAGkGaDEmoQWiZTAhv//6nhAD4ewf4Tgt0JFtAAAAAGUGaLUnhClJlMCG//qeEAKP7qfqONCQ4UkEAAAARQZpRSeEOiZTAhn/+nhAABH0AAAASQZ5vRRE8L/8AX6FR3RxX8jQRAAAAEAGejnRCvwB/IzIjsWYo3KgAAAAQAZ6QakK/AH8CJmm+kg4vSAAAABlBmpJJqEFomUwIZ//+nhACenCOfw5zfWXpAAAAGEGas0nhClJlMCGf/p4QA8ZTjn8Oc31lQQAAAB1BmtVJ4Q6JlMFNEwz//p4QBnV7muOfwO+gvmW9IAAAABABnvRqQr8BSLCPJgevbPmBAAAAGEGa9knhDyZTAhn//p4QBrd7jQum+zjHHAAAABhBmxdJ4Q8mUwIZ//6eEAcDrjb3pvs4xvUAAAAYQZs4SeEPJlMCGf/+nhAHVuceAvv6IaeFAAAAGEGbWUnhDyZTAhv//qeEAgR8x5GJ/iNiygAAABhBm3pJ4Q8mUwIb//6nhAIhjMeRif4U8g8AAAAZQZubSeEPJlMCHf/+qZYBI6WVxml/VkSVgAAAABFBm79J4Q8mUwIb//6nhAABJwAAABNBn91FETwv/wEW9BFKR0zliz6DAAAAEAGf/HRCvwGJeTeVsoejcsAAAAAQAZ/+akK/AYkFjXvNKzZUwAAAABxBm+FJqEFomUwU8N/+p4QLQ/A8GbVP3on5JT5hAAAADwGeAGpCvwKRYjyYDfcl0wAAABhBmgVJ4QpSZTAhn/6eECk7UfWn6AfIu4EAAAAVQZ4jRTRML/8B6fvY0rlciRx63pLwAAAAEAGeQnRCvwKvcd5WvEFK9IEAAAAPAZ5EakK/AZMi+ZtmRrG9AAAAGUGaR0moQWiZTBTwz/6eECffML+9BfF6fMEAAAAPAZ5makK/ApFiPJgN9yXTAAAAG0GaaUvhCEKUkRggoB/IB/YeAUsK//44QAARcAAAACMBnohqQr8CrzRvwCW5Kzt7iwEfzF1RpjF65ou+oIH3g2c0TAAAC2Btb292AAAAbG12aGQAAAAAAAAAAAAAAAAAAAPoAAAfkAABAAABAAAAAAAAAAAAAAAAAQAAAAAAAAAAAAAAAAAAAAEAAAAAAAAAAAAAAAAAAEAAAAAAAAAAAAAAAAAAAAAAAAAAAAAAAAAAAAAAAAACAAAKinRyYWsAAABcdGtoZAAAAAMAAAAAAAAAAAAAAAEAAAAAAAAfkAAAAAAAAAAAAAAAAAAAAAAAAQAAAAAAAAAAAAAAAAAAAAEAAAAAAAAAAAAAAAAAAEAAAAABEAAAARAAAAAAACRlZHRzAAAAHGVsc3QAAAAAAAAAAQAAH5AAAAQAAAEAAAAACgJtZGlhAAAAIG1kaGQAAAAAAAAAAAAAAAAAADIAAAGUAFXEAAAAAAAtaGRscgAAAAAAAAAAdmlkZQAAAAAAAAAAAAAAAFZpZGVvSGFuZGxlcgAAAAmtbWluZgAAABR2bWhkAAAAAQAAAAAAAAAAAAAAJGRpbmYAAAAcZHJlZgAAAAAAAAABAAAADHVybCAAAAABAAAJbXN0YmwAAACVc3RzZAAAAAAAAAABAAAAhWF2YzEAAAAAAAAAAQAAAAAAAAAAAAAAAAAAAAABEAEQAEgAAABIAAAAAAAAAAEAAAAAAAAAAAAAAAAAAAAAAAAAAAAAAAAAAAAAAAAAAAAY//8AAAAvYXZjQwH0AA3/4QAXZ/QADZGbKCIR0IAAAAMAgAAAGQeKFMsBAAVo6+PESAAAABhzdHRzAAAAAAAAAAEAAADKAAACAAAAABRzdHNzAAAAAAAAAAEAAAABAAAFOGN0dHMAAAAAAAAApQAAAAEAAAQAAAAAAQAACgAAAAABAAAEAAAAAAEAAAAAAAAAAQAAAgAAAAABAAAKAAAAAAEAAAQAAAAAAQAAAAAAAAABAAACAAAAAAIAAAQAAAAAAQAACgAAAAABAAAEAAAAAAEAAAAAAAAAAQAAAgAAAAABAAAIAAAAAAIAAAIAAAAAAQAABgAAAAABAAACAAAAAAMAAAQAAAAAAQAACAAAAAACAAACAAAAAAEAAAQAAAAAAQAACgAAAAABAAAEAAAAAAEAAAAAAAAAAQAAAgAAAAABAAAGAAAAAAEAAAIAAAAAAQAABAAAAAABAAAGAAAAAAEAAAIAAAAAAQAABAAAAAABAAAGAAAAAAEAAAIAAAAAAQAACgAAAAABAAAEAAAAAAEAAAAAAAAAAQAAAgAAAAADAAAEAAAAAAEAAAoAAAAAAQAABAAAAAABAAAAAAAAAAEAAAIAAAAAAQAABgAAAAABAAACAAAAAAEAAAQAAAAAAQAACgAAAAABAAAEAAAAAAEAAAAAAAAAAQAAAgAAAAABAAAEAAAAAAEAAAYAAAAAAQAAAgAAAAAFAAAEAAAAAAEAAAYAAAAAAQAAAgAAAAACAAAEAAAAAAEAAAoAAAAAAQAABAAAAAABAAAAAAAAAAEAAAIAAAAABgAABAAAAAABAAAGAAAAAAEAAAIAAAAAAQAACAAAAAACAAACAAAAAAIAAAQAAAAAAQAABgAAAAABAAACAAAAAAIAAAQAAAAAAQAACgAAAAABAAAEAAAAAAEAAAAAAAAAAQAAAgAAAAABAAAEAAAAAAEAAAYAAAAAAQAAAgAAAAAEAAAEAAAAAAEAAAoAAAAAAQAABAAAAAABAAAAAAAAAAEAAAIAAAAAAQAACgAAAAABAAAEAAAAAAEAAAAAAAAAAQAAAgAAAAABAAAKAAAAAAEAAAQAAAAAAQAAAAAAAAABAAACAAAAAAEAAAoAAAAAAQAABAAAAAABAAAAAAAAAAEAAAIAAAAAAQAACgAAAAABAAAEAAAAAAEAAAAAAAAAAQAAAgAAAAABAAAGAAAAAAEAAAIAAAAAAQAACgAAAAABAAAEAAAAAAEAAAAAAAAAAQAAAgAAAAABAAAEAAAAAAEAAAgAAAAAAgAAAgAAAAABAAAKAAAAAAEAAAQAAAAAAQAAAAAAAAABAAACAAAAAAEAAAQAAAAAAQAACAAAAAACAAACAAAAAAEAAAoAAAAAAQAABAAAAAABAAAAAAAAAAEAAAIAAAAAAQAABgAAAAABAAACAAAAAAEAAAoAAAAAAQAABAAAAAABAAAAAAAAAAEAAAIAAAAAAQAABgAAAAABAAACAAAAAAIAAAQAAAAAAQAABgAAAAABAAACAAAAAAQAAAQAAAAAAQAABgAAAAABAAACAAAAAAEAAAQAAAAAAQAACgAAAAABAAAEAAAAAAEAAAAAAAAAAQAAAgAAAAACAAAEAAAAAAEAAAoAAAAAAQAABAAAAAABAAAAAAAAAAEAAAIAAAAAAgAABAAAAAABAAAKAAAAAAEAAAQAAAAAAQAAAAAAAAABAAACAAAAAAIAAAQAAAAAAQAABgAAAAABAAACAAAAAAYAAAQAAAAAAQAACgAAAAABAAAEAAAAAAEAAAAAAAAAAQAAAgAAAAABAAAGAAAAAAEAAAIAAAAAAQAACgAAAAABAAAEAAAAAAEAAAAAAAAAAQAAAgAAAAABAAAGAAAAAAEAAAIAAAAAAQAABgAAAAABAAACAAAAABxzdHNjAAAAAAAAAAEAAAABAAAAygAAAAEAAAM8c3RzegAAAAAAAAAAAAAAygAABGcAAAAVAAAAFgAAABMAAAAUAAAAFgAAABcAAAAUAAAAEwAAAB0AAAAdAAAAIAAAABQAAAAUAAAAEwAAAB0AAAAWAAAAEwAAACEAAAAUAAAAHAAAAB0AAAAdAAAAHQAAABYAAAATAAAAHgAAAB4AAAAYAAAAFAAAABQAAAAhAAAAFAAAAB0AAAAhAAAAEwAAABwAAAAhAAAAFAAAABUAAAAXAAAAFAAAABMAAAAdAAAAHwAAABwAAAAhAAAAGQAAABQAAAAUAAAAHQAAABMAAAAcAAAAIgAAABkAAAATAAAAFAAAAB0AAAAgAAAAFAAAABwAAAAcAAAAHAAAABwAAAAdAAAAIQAAABMAAAAcAAAAHAAAABUAAAAXAAAAFAAAABQAAAAdAAAAHAAAABwAAAAcAAAAHQAAAB0AAAAhAAAAEwAAABwAAAAVAAAAEgAAAB0AAAAcAAAAIQAAABMAAAAcAAAAHAAAAB4AAAAYAAAAFAAAABQAAAAeAAAAIQAAABMAAAAcAAAAHAAAABwAAAAdAAAAIQAAABkAAAATAAAAFAAAABcAAAAXAAAAFAAAABQAAAAXAAAAFwAAABMAAAAUAAAAFwAAABcAAAAUAAAAFAAAACIAAAAZAAAAFAAAABMAAAAdAAAAEwAAABwAAAAWAAAAFAAAABMAAAAcAAAAHgAAABYAAAASAAAAHwAAABkAAAAUAAAAEwAAABwAAAAfAAAAFgAAABIAAAAfAAAAGQAAABQAAAATAAAAHQAAABMAAAAcAAAAFgAAABQAAAATAAAAHAAAABMAAAAcAAAAHAAAACIAAAATAAAAHAAAABwAAAAcAAAAHAAAACEAAAAUAAAAHQAAABUAAAAWAAAAFAAAABQAAAAeAAAAHQAAABUAAAAXAAAAFAAAABMAAAAeAAAAHQAAABUAAAAWAAAAFAAAABQAAAAdAAAAHAAAACEAAAAUAAAAHAAAABwAAAAcAAAAHAAAABwAAAAdAAAAFQAAABcAAAAUAAAAFAAAACAAAAATAAAAHAAAABkAAAAUAAAAEwAAAB0AAAATAAAAHwAAACcAAAAUc3RjbwAAAAAAAAABAAAAMAAAAGJ1ZHRhAAAAWm1ldGEAAAAAAAAAIWhkbHIAAAAAAAAAAG1kaXJhcHBsAAAAAAAAAAAAAAAALWlsc3QAAAAlqXRvbwAAAB1kYXRhAAAAAQAAAABMYXZmNTguMTIuMTAw\" type=\"video/mp4\" />\n",
       "             </video>"
      ],
      "text/plain": [
       "<IPython.core.display.HTML object>"
      ]
     },
     "execution_count": 51,
     "metadata": {},
     "output_type": "execute_result"
    }
   ],
   "source": [
    "# Training\n",
    "env = EnvironmentExploring(grid_size=size, max_time=T, temperature=0.1)\n",
    "agent = DQN_CNN(size, lr=.1, epsilon = 0.1, memory_size=2000, batch_size = 32,n_state=3)\n",
    "train_explore(agent, env, epochs_train, prefix='cnn_train_explore')\n",
    "HTML(display_videos('cnn_train_explore10.mp4'))"
   ]
  },
  {
   "cell_type": "code",
   "execution_count": 52,
   "metadata": {
    "colab": {
     "base_uri": "https://localhost:8080/",
     "height": 293
    },
    "colab_type": "code",
    "id": "G2WabZsNqmkf",
    "outputId": "67e3267d-983c-42f9-c8f2-339cb83cebd2"
   },
   "outputs": [
    {
     "data": {
      "text/html": [
       "<video alt=\"test\" controls>\n",
       "                <source src=\"data:video/mp4;base64,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\" type=\"video/mp4\" />\n",
       "             </video>"
      ],
      "text/plain": [
       "<IPython.core.display.HTML object>"
      ]
     },
     "execution_count": 52,
     "metadata": {},
     "output_type": "execute_result"
    }
   ],
   "source": [
    "HTML(display_videos('cnn_train_explore40.mp4'))"
   ]
  },
  {
   "cell_type": "code",
   "execution_count": 53,
   "metadata": {},
   "outputs": [
    {
     "name": "stdout",
     "output_type": "stream",
     "text": [
      "Win/lose count 0.5/0. Average score (0.5)\n",
      "Win/lose count 1.0/1.0. Average score (0.25)\n",
      "Win/lose count 4.0/0. Average score (1.5)\n",
      "Win/lose count 3.5/0. Average score (2.0)\n",
      "Win/lose count 0/0. Average score (1.6)\n",
      "Win/lose count 1.0/0. Average score (1.5)\n",
      "Win/lose count 2.5/1.0. Average score (1.5)\n",
      "Win/lose count 0.5/0. Average score (1.375)\n",
      "Win/lose count 0/1.0. Average score (1.1111111111111112)\n",
      "Win/lose count 2.5/0. Average score (1.25)\n",
      "Win/lose count 0.5/0. Average score (1.1818181818181819)\n",
      "Win/lose count 0/0. Average score (1.0833333333333333)\n",
      "Win/lose count 2.0/0. Average score (1.1538461538461537)\n",
      "Win/lose count 0.5/0. Average score (1.1071428571428572)\n",
      "Win/lose count 0/1.0. Average score (0.9666666666666667)\n",
      "Win/lose count 0/0. Average score (0.90625)\n",
      "Win/lose count 1.0/1.0. Average score (0.8529411764705882)\n",
      "Win/lose count 1.5/0. Average score (0.8888888888888888)\n",
      "Win/lose count 4.0/1.0. Average score (1.0)\n",
      "Win/lose count 1.0/1.0. Average score (0.95)\n",
      "Win/lose count 2.0/1.0. Average score (0.9523809523809523)\n",
      "Win/lose count 2.5/0. Average score (1.0227272727272727)\n",
      "Win/lose count 1.5/0. Average score (1.0434782608695652)\n",
      "Win/lose count 2.0/0. Average score (1.0833333333333333)\n",
      "Win/lose count 1.5/0. Average score (1.1)\n",
      "Win/lose count 3.0/0. Average score (1.1730769230769231)\n",
      "Win/lose count 0/0. Average score (1.1296296296296295)\n",
      "Win/lose count 1.0/1.0. Average score (1.0892857142857142)\n",
      "Win/lose count 1.0/0. Average score (1.0862068965517242)\n",
      "Win/lose count 4.5/0. Average score (1.2)\n",
      "Win/lose count 0.5/0. Average score (1.1774193548387097)\n",
      "Win/lose count 0/0. Average score (1.140625)\n",
      "Win/lose count 1.0/0. Average score (1.1363636363636365)\n",
      "Win/lose count 1.5/0. Average score (1.1470588235294117)\n",
      "Win/lose count 0.5/0. Average score (1.1285714285714286)\n",
      "Win/lose count 1.5/0. Average score (1.1388888888888888)\n",
      "Win/lose count 1.5/0. Average score (1.1486486486486487)\n",
      "Win/lose count 0/0. Average score (1.118421052631579)\n",
      "Win/lose count 2.0/0. Average score (1.141025641025641)\n",
      "Win/lose count 0/0. Average score (1.1125)\n",
      "Win/lose count 1.0/0. Average score (1.1097560975609757)\n",
      "Win/lose count 0/0. Average score (1.0833333333333333)\n",
      "Win/lose count 0.5/0. Average score (1.069767441860465)\n",
      "Win/lose count 0.5/0. Average score (1.0568181818181819)\n",
      "Win/lose count 2.0/0. Average score (1.0777777777777777)\n",
      "Win/lose count 1.5/0. Average score (1.0869565217391304)\n",
      "Win/lose count 1.0/1.0. Average score (1.0638297872340425)\n",
      "Win/lose count 0.5/0. Average score (1.0520833333333333)\n",
      "Win/lose count 1.5/0. Average score (1.0612244897959184)\n",
      "Win/lose count 1.5/0. Average score (1.07)\n",
      "Final score: 1.07\n"
     ]
    },
    {
     "data": {
      "text/html": [
       "<video alt=\"test\" controls>\n",
       "                <source src=\"data:video/mp4;base64,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\" type=\"video/mp4\" />\n",
       "             </video>"
      ],
      "text/plain": [
       "<IPython.core.display.HTML object>"
      ]
     },
     "execution_count": 53,
     "metadata": {},
     "output_type": "execute_result"
    }
   ],
   "source": [
    "# Evaluation\n",
    "test(agent,env,epochs_test,prefix='cnn_test_explore')\n",
    "HTML(display_videos('cnn_test_explore40.mp4'))"
   ]
  },
  {
   "cell_type": "markdown",
   "metadata": {},
   "source": [
    "***\n",
    "***\n",
    "__BONUS question__ Use the expert DQN from the previous question to generate some winning games. Train a model that mimicks its behavior. Compare the performances."
   ]
  },
  {
   "cell_type": "markdown",
   "metadata": {},
   "source": []
  },
  {
   "cell_type": "markdown",
   "metadata": {},
   "source": [
    "***"
   ]
  }
 ],
 "metadata": {
  "kernelspec": {
   "display_name": "Python 3",
   "language": "python",
   "name": "python3"
  },
  "language_info": {
   "codemirror_mode": {
    "name": "ipython",
    "version": 3
   },
   "file_extension": ".py",
   "mimetype": "text/x-python",
   "name": "python",
   "nbconvert_exporter": "python",
   "pygments_lexer": "ipython3",
   "version": "3.6.7"
  }
 },
 "nbformat": 4,
 "nbformat_minor": 2
}
